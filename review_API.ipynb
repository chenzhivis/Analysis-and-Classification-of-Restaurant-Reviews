{
 "cells": [
  {
   "cell_type": "markdown",
   "metadata": {},
   "source": [
    "# Project Yelp API"
   ]
  },
  {
   "cell_type": "markdown",
   "metadata": {},
   "source": [
    "## <font color=darkblue>About</font>\n",
    "<font color=darkblue> *This notebook was created to collect yelp review data for another fast food restuarnt, KFC. It uses the official Yelp API and makes calls to the Business Search and Business Review Endpoints. This additional data was used to try out our model on the \"mod4_project\" notebook to classify negative yelp reviews for KFC.* </font>"
   ]
  },
  {
   "cell_type": "markdown",
   "metadata": {},
   "source": [
    "### 1. Import Libraries and API Key"
   ]
  },
  {
   "cell_type": "code",
   "execution_count": null,
   "metadata": {},
   "outputs": [],
   "source": [
    "import pandas as pd\n",
    "import numpy as np\n",
    "import requests\n",
    "import json\n",
    "from yelp.client import Client\n",
    "import config\n",
    "import itertools"
   ]
  },
  {
   "cell_type": "code",
   "execution_count": null,
   "metadata": {},
   "outputs": [],
   "source": [
    "#use YELP API key here\n",
    "MY_API_KEY = config.api_key"
   ]
  },
  {
   "cell_type": "markdown",
   "metadata": {},
   "source": [
    "### 2. Business Search Endpoint"
   ]
  },
  {
   "cell_type": "code",
   "execution_count": null,
   "metadata": {},
   "outputs": [],
   "source": [
    "#function that returns number of business (1000 max) based on search criteria\n",
    "def fast_food(restaurant, locale, int):\n",
    "    '''\n",
    "    Makes Yelp API calls using the Business Search Endpoint.\n",
    "    \n",
    "    First two inputs should be strings (search term and location) and \n",
    "    the third should be an integer (search limit)\n",
    "    \n",
    "    Example) fast_food('KFC', 'New York, NY', 50)\n",
    "    '''\n",
    "    \n",
    "    MY_API_KEY = config.api_key\n",
    "    term = restaurant\n",
    "    location = locale\n",
    "    SEARCH_LIMIT = int\n",
    "\n",
    "    url = 'https://api.yelp.com/v3/businesses/search'\n",
    "\n",
    "    headers = {\n",
    "            'Authorization': 'Bearer {}'.format(MY_API_KEY),\n",
    "        }\n",
    "\n",
    "    url_params = {\n",
    "                    'term': term.replace(' ', '+'),\n",
    "                    'location': location.replace(' ', '+'),\n",
    "                    'limit': SEARCH_LIMIT\n",
    "            }\n",
    "    response = requests.get(url, headers=headers, params=url_params)\n",
    "    print(response)\n",
    "    print(type(response.text))\n",
    "    return response.text"
   ]
  },
  {
   "cell_type": "code",
   "execution_count": null,
   "metadata": {},
   "outputs": [],
   "source": [
    "#Use function for KFC's located in specific area\n",
    "kfc_lv = fast_food('KFC', 'Las Vegas, NV', 50)\n",
    "kfc_lv = json.loads(kfc_lv)"
   ]
  },
  {
   "cell_type": "code",
   "execution_count": null,
   "metadata": {},
   "outputs": [],
   "source": [
    "kfc_lv_df = pd.DataFrame.from_dict(kfc_lv['businesses'])\n",
    "kfc_lv_df"
   ]
  },
  {
   "cell_type": "code",
   "execution_count": null,
   "metadata": {},
   "outputs": [],
   "source": [
    "kfc_la = fast_food('Burger King', 'Los Angeles, CA', 50)\n",
    "kfc_la = json.loads(kfc_la)"
   ]
  },
  {
   "cell_type": "code",
   "execution_count": null,
   "metadata": {},
   "outputs": [],
   "source": [
    "kfc_la_df = pd.DataFrame.from_dict(kfc_la['businesses'])\n",
    "kfc_la_df"
   ]
  },
  {
   "cell_type": "code",
   "execution_count": null,
   "metadata": {},
   "outputs": [],
   "source": [
    "kfc_atl = fast_food('KFC', 'Atlanta, GA', 50)\n",
    "kfc_atl = json.loads(kfc_atl)"
   ]
  },
  {
   "cell_type": "code",
   "execution_count": null,
   "metadata": {},
   "outputs": [],
   "source": [
    "kfc_atl_df = pd.DataFrame.from_dict(kfc_atl['businesses'])\n",
    "kfc_atl_df"
   ]
  },
  {
   "cell_type": "code",
   "execution_count": null,
   "metadata": {},
   "outputs": [],
   "source": [
    "kfc_chi = fast_food('KFC', 'Chicago, IL', 50)\n",
    "kfc_chi = json.loads(kfc_chi)"
   ]
  },
  {
   "cell_type": "code",
   "execution_count": null,
   "metadata": {},
   "outputs": [],
   "source": [
    "kfc_chi_df = pd.DataFrame.from_dict(kfc_chi['businesses'])\n",
    "kfc_chi_df"
   ]
  },
  {
   "cell_type": "code",
   "execution_count": null,
   "metadata": {},
   "outputs": [],
   "source": [
    "kfc_cl = fast_food('KFC', 'Cleveland, OH', 50)\n",
    "kfc_cl = json.loads(kfc_cl)"
   ]
  },
  {
   "cell_type": "code",
   "execution_count": null,
   "metadata": {
    "scrolled": false
   },
   "outputs": [],
   "source": [
    "kfc_cl_df = pd.DataFrame.from_dict(kfc_cl['businesses'])\n",
    "kfc_cl_df"
   ]
  },
  {
   "cell_type": "code",
   "execution_count": null,
   "metadata": {},
   "outputs": [],
   "source": [
    "kfc_dal = fast_food('KFC', 'Dallas, TX', 50)\n",
    "kfc_dal = json.loads(kfc_dal)"
   ]
  },
  {
   "cell_type": "code",
   "execution_count": null,
   "metadata": {
    "scrolled": false
   },
   "outputs": [],
   "source": [
    "kfc_dal_df = pd.DataFrame.from_dict(kfc_dal['businesses'])\n",
    "kfc_dal_df"
   ]
  },
  {
   "cell_type": "code",
   "execution_count": null,
   "metadata": {},
   "outputs": [],
   "source": [
    "kfc_ho = fast_food('KFC', 'Houston, TX', 50)\n",
    "kfc_ho = json.loads(kfc_ho)"
   ]
  },
  {
   "cell_type": "code",
   "execution_count": null,
   "metadata": {},
   "outputs": [],
   "source": [
    "kfc_ho_df = pd.DataFrame.from_dict(kfc_ho['businesses'])\n",
    "kfc_ho_df"
   ]
  },
  {
   "cell_type": "code",
   "execution_count": null,
   "metadata": {},
   "outputs": [],
   "source": [
    "kfc_ny = fast_food('KFC', 'New York, NY', 50)\n",
    "kfc_ny = json.loads(kfc_ny)"
   ]
  },
  {
   "cell_type": "code",
   "execution_count": null,
   "metadata": {},
   "outputs": [],
   "source": [
    "kfc_ny_df = pd.DataFrame.from_dict(kfc_ny['businesses'])\n",
    "kfc_ny_df"
   ]
  },
  {
   "cell_type": "code",
   "execution_count": null,
   "metadata": {},
   "outputs": [],
   "source": [
    "kfc_por = fast_food('KFC', 'Portland, OR', 50)\n",
    "kfc_por = json.loads(kfc_por)"
   ]
  },
  {
   "cell_type": "code",
   "execution_count": null,
   "metadata": {},
   "outputs": [],
   "source": [
    "kfc_por_df = pd.DataFrame.from_dict(kfc_por['businesses'])\n",
    "kfc_por_df"
   ]
  },
  {
   "cell_type": "code",
   "execution_count": null,
   "metadata": {},
   "outputs": [],
   "source": [
    "#append all KFC locations into one df\n",
    "kfc_biz = kfc_atl_df.append([kfc_chi_df, kfc_cl_df, kfc_dal_df, kfc_ho_df, kfc_la_df, kfc_lv_df, kfc_ny_df, kfc_por_df]).reset_index()"
   ]
  },
  {
   "cell_type": "code",
   "execution_count": null,
   "metadata": {},
   "outputs": [],
   "source": [
    "kfc_biz"
   ]
  },
  {
   "cell_type": "code",
   "execution_count": null,
   "metadata": {},
   "outputs": [],
   "source": [
    "indexNames = kfc_biz[kfc_biz['name']!= 'KFC'].index"
   ]
  },
  {
   "cell_type": "code",
   "execution_count": null,
   "metadata": {},
   "outputs": [],
   "source": [
    "#drop rows that don't have KFC as the name\n",
    "kfc_biz.drop(indexNames, inplace = True)"
   ]
  },
  {
   "cell_type": "code",
   "execution_count": null,
   "metadata": {},
   "outputs": [],
   "source": [
    "#get business ids into a list to use for calling the Business Review Endpoint\n",
    "kfc_id = kfc_biz['id'].tolist()"
   ]
  },
  {
   "cell_type": "code",
   "execution_count": null,
   "metadata": {},
   "outputs": [],
   "source": []
  },
  {
   "cell_type": "markdown",
   "metadata": {},
   "source": [
    "### 3. Business Reviews Endpoint"
   ]
  },
  {
   "cell_type": "code",
   "execution_count": null,
   "metadata": {},
   "outputs": [],
   "source": [
    "#uses all the business id's to get the 3 reviews and other info from each KFC into a list\n",
    "\n",
    "kfc_reviews = []\n",
    "for id in kfc_id: \n",
    "    url = 'https://api.yelp.com/v3/businesses/{}/reviews'.format(id)\n",
    "    headers = {\n",
    "        'Authorization': 'Bearer {}'.format(MY_API_KEY),\n",
    "    }\n",
    "\n",
    "    response = requests.get(url, headers=headers)\n",
    "    data = response.json()\n",
    "    kfc_reviews.append(data)\n",
    "print(kfc_reviews)"
   ]
  },
  {
   "cell_type": "code",
   "execution_count": null,
   "metadata": {},
   "outputs": [],
   "source": [
    "kfc_df = pd.DataFrame(kfc_reviews)"
   ]
  },
  {
   "cell_type": "code",
   "execution_count": null,
   "metadata": {},
   "outputs": [],
   "source": [
    "kfc_df"
   ]
  },
  {
   "cell_type": "code",
   "execution_count": null,
   "metadata": {},
   "outputs": [],
   "source": [
    "#check for any null values\n",
    "kfc_df[kfc_df.reviews.isnull()]"
   ]
  },
  {
   "cell_type": "code",
   "execution_count": null,
   "metadata": {},
   "outputs": [],
   "source": [
    "#remove null rows\n",
    "kfc_df = kfc_df[kfc_df['reviews'].notna()]"
   ]
  },
  {
   "cell_type": "code",
   "execution_count": null,
   "metadata": {},
   "outputs": [],
   "source": [
    "#convert reviews column into it's own list to make a separate dataframe\n",
    "kfc_rev = kfc_df['reviews'].tolist()"
   ]
  },
  {
   "cell_type": "code",
   "execution_count": null,
   "metadata": {},
   "outputs": [],
   "source": [
    "#concatenate the list of lists into one full list\n",
    "kfc_review = list(itertools.chain.from_iterable(kfc_rev))"
   ]
  },
  {
   "cell_type": "code",
   "execution_count": null,
   "metadata": {},
   "outputs": [],
   "source": [
    "#convert into a new df, containing review id, url, review text, rating, etc\n",
    "kfc_rev_df = pd.DataFrame(kfc_review)"
   ]
  },
  {
   "cell_type": "code",
   "execution_count": null,
   "metadata": {},
   "outputs": [],
   "source": [
    "#remove any reviews with a star rating less than 3 since we only want to run the model on negative reviews\n",
    "kfc_lo_rev = kfc_rev_df.loc[kfc_rev_df['rating']< 3]"
   ]
  },
  {
   "cell_type": "code",
   "execution_count": null,
   "metadata": {},
   "outputs": [],
   "source": []
  },
  {
   "cell_type": "markdown",
   "metadata": {},
   "source": [
    "### 4. Merge Business Search and Business Review Dataframes"
   ]
  },
  {
   "cell_type": "code",
   "execution_count": null,
   "metadata": {},
   "outputs": [],
   "source": [
    "#split the url column so we can use to merge with kfc_biz\n",
    "kfc_lo_rev['url'] = kfc_lo_rev['url'].str.split('?').str[0]"
   ]
  },
  {
   "cell_type": "code",
   "execution_count": null,
   "metadata": {},
   "outputs": [],
   "source": [
    "kfc_biz['url'] = kfc_biz['url'].str.split('?').str[0]"
   ]
  },
  {
   "cell_type": "code",
   "execution_count": null,
   "metadata": {},
   "outputs": [],
   "source": [
    "kfc = kfc_lo_rev.merge(kfc_biz, on = 'url', how = 'left')\n"
   ]
  },
  {
   "cell_type": "code",
   "execution_count": null,
   "metadata": {},
   "outputs": [],
   "source": [
    "kfc.head(21)"
   ]
  },
  {
   "cell_type": "code",
   "execution_count": null,
   "metadata": {},
   "outputs": [],
   "source": []
  }
 ],
 "metadata": {
  "kernelspec": {
   "display_name": "Python 3",
   "language": "python",
   "name": "python3"
  },
  "language_info": {
   "codemirror_mode": {
    "name": "ipython",
    "version": 3
   },
   "file_extension": ".py",
   "mimetype": "text/x-python",
   "name": "python",
   "nbconvert_exporter": "python",
   "pygments_lexer": "ipython3",
   "version": "3.7.7"
  }
 },
 "nbformat": 4,
 "nbformat_minor": 4
}
