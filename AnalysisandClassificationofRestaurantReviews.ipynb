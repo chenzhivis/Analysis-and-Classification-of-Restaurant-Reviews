{
 "cells": [
  {
   "cell_type": "markdown",
   "metadata": {},
   "source": [
    "# Analysis and Classification of Restaurant Reviews \n",
    "### (fast food restaurants)\n",
    "\n",
    "### *By Zhi Chen* "
   ]
  },
  {
   "cell_type": "markdown",
   "metadata": {},
   "source": [
    "### <font color=darkblue>Introduction and Background</font>\n",
    "<font color=darkblue> *According to 2019 report from National Restaurant Association, there are more than 1 million restaurants in US and 247,191 of them are fast food restaurants (almost 25%). Studies show that nearly 37% of Americans regularly eat fast food. And, nowadays many people write reviews about their dining experiences after their meal. In that regard, studies shows that 33% of people read other guests' reviews before selecting a place to eat.* </font>\n",
    "\n",
    "<font color=darkblue> *Therefore, it is essential for a restaurant manager to know feedbacks from clients (like what are the defects in services, how people feel about the food, etc) in order to improve the customer satisfaction and restaurants' overall business. The most important resource of feedback are guests' reviews, especially those __negative reviews. However, looking through thousands of guests' reviews can be too time-consuming and frustrating. Wouldn't it be perfect to have a NLP classification model that can classify different types of negative reviews for a restaurant manager before he look into those reviews?__* </font>\n",
    "\n",
    "<font color=darkblue> *In this project, we use a McDonald's review dataset from data.world and reviews we collected using Yelp API to analyze the negative reviews, to analyze feedbacks from McDonalds' guests and KFC guests, to give an idea about how various fast food restaurants do in different cities, and finally to __establish NLP classification models that can classify negative reviews for restaurant managers.__* </font>"
   ]
  },
  {
   "cell_type": "markdown",
   "metadata": {},
   "source": [
    "### <font color=darkblue>Summary</font>\n",
    "<font color=darkblue>__*The goals of this Notebook are to: (1) analyze negative reviews and feedback from guests of fast food restaurant; (2) get an idea about how various fast food restaurants do in different cities (what are the different defects in services, food, etc); (3) develop an NLP classification model that can classify negative reviews for restaurant managers, help the manager save time on absorbing information, help restaurants improve the business. (4) try our model on a similar fast food restaurant's (KFC) reviews. (5) sell this NLP classification model to a restaurant manager for $1,000.*__ </font>\n",
    "\n",
    "<font color=darkblue> __*This Notebook has 6 parts:*__ </font>\n",
    "\n",
    "<font color=darkblue> __*1. Data collection, API and cleaning*__ </font>\n",
    "\n",
    "<font color=darkblue> __*2. Exploratory Data Analysis, descriptive statistics of reviews*__ </font>\n",
    "\n",
    "<font color=darkblue> __*3. Preprocessing & feature engineering*__ </font>\n",
    "\n",
    "<font color=darkblue> __*4. Various model fitting*__ </font>\n",
    "\n",
    "<font color=darkblue> __*5. Models evaluation*__ </font>\n",
    "\n",
    "<font color=darkblue> __*6. Business conclusion and discussion*__ </font>"
   ]
  },
  {
   "cell_type": "markdown",
   "metadata": {},
   "source": [
    "## 1. Data collection and cleaning"
   ]
  },
  {
   "cell_type": "markdown",
   "metadata": {},
   "source": [
    "### 1.1 Get dataset from data.world, understand all features and target"
   ]
  },
  {
   "cell_type": "code",
   "execution_count": 113,
   "metadata": {},
   "outputs": [],
   "source": [
    "import pandas as pd\n",
    "import numpy as np\n",
    "import sklearn\n",
    "from sklearn.model_selection import train_test_split\n",
    "from sklearn.preprocessing import LabelEncoder\n",
    "from sklearn.naive_bayes import MultinomialNB\n",
    "from sklearn.ensemble import RandomForestClassifier\n",
    "from sklearn.metrics import accuracy_score, confusion_matrix, f1_score, recall_score, precision_score\n",
    "from sklearn.feature_extraction.text import TfidfVectorizer\n",
    "import string\n",
    "import nltk\n",
    "from nltk.corpus import stopwords\n",
    "from nltk import word_tokenize\n",
    "from nltk.stem import WordNetLemmatizer\n",
    "from nltk.stem import PorterStemmer\n",
    "from nltk.probability import FreqDist\n",
    "import matplotlib.pyplot as plt\n",
    "import seaborn as sns\n",
    "from matplotlib import cm\n",
    "from textblob import TextBlob, Word\n",
    "from imblearn.over_sampling import ADASYN\n",
    "%matplotlib inline\n",
    "#pd.set_option('display.max_colwidth', -1)"
   ]
  },
  {
   "cell_type": "code",
   "execution_count": 625,
   "metadata": {
    "scrolled": true
   },
   "outputs": [
    {
     "data": {
      "text/html": [
       "<div>\n",
       "<style scoped>\n",
       "    .dataframe tbody tr th:only-of-type {\n",
       "        vertical-align: middle;\n",
       "    }\n",
       "\n",
       "    .dataframe tbody tr th {\n",
       "        vertical-align: top;\n",
       "    }\n",
       "\n",
       "    .dataframe thead th {\n",
       "        text-align: right;\n",
       "    }\n",
       "</style>\n",
       "<table border=\"1\" class=\"dataframe\">\n",
       "  <thead>\n",
       "    <tr style=\"text-align: right;\">\n",
       "      <th></th>\n",
       "      <th>_unit_id</th>\n",
       "      <th>_golden</th>\n",
       "      <th>_unit_state</th>\n",
       "      <th>_trusted_judgments</th>\n",
       "      <th>_last_judgment_at</th>\n",
       "      <th>policies_violated</th>\n",
       "      <th>policies_violated:confidence</th>\n",
       "      <th>city</th>\n",
       "      <th>policies_violated_gold</th>\n",
       "      <th>review</th>\n",
       "    </tr>\n",
       "  </thead>\n",
       "  <tbody>\n",
       "    <tr>\n",
       "      <th>0</th>\n",
       "      <td>679455653</td>\n",
       "      <td>False</td>\n",
       "      <td>finalized</td>\n",
       "      <td>3</td>\n",
       "      <td>2/21/15 0:36</td>\n",
       "      <td>RudeService\\rOrderProblem\\rFilthy</td>\n",
       "      <td>1.0\\r0.6667\\r0.6667</td>\n",
       "      <td>Atlanta</td>\n",
       "      <td>NaN</td>\n",
       "      <td>I'm not a huge mcds lover, but I've been to be...</td>\n",
       "    </tr>\n",
       "    <tr>\n",
       "      <th>1</th>\n",
       "      <td>679455654</td>\n",
       "      <td>False</td>\n",
       "      <td>finalized</td>\n",
       "      <td>3</td>\n",
       "      <td>2/21/15 0:27</td>\n",
       "      <td>RudeService</td>\n",
       "      <td>1</td>\n",
       "      <td>Atlanta</td>\n",
       "      <td>NaN</td>\n",
       "      <td>Terrible customer service. Î¾I came in at 9:30...</td>\n",
       "    </tr>\n",
       "    <tr>\n",
       "      <th>2</th>\n",
       "      <td>679455655</td>\n",
       "      <td>False</td>\n",
       "      <td>finalized</td>\n",
       "      <td>3</td>\n",
       "      <td>2/21/15 0:26</td>\n",
       "      <td>SlowService\\rOrderProblem</td>\n",
       "      <td>1.0\\r1.0</td>\n",
       "      <td>Atlanta</td>\n",
       "      <td>NaN</td>\n",
       "      <td>First they \"lost\" my order, actually they gave...</td>\n",
       "    </tr>\n",
       "    <tr>\n",
       "      <th>3</th>\n",
       "      <td>679455656</td>\n",
       "      <td>False</td>\n",
       "      <td>finalized</td>\n",
       "      <td>3</td>\n",
       "      <td>2/21/15 0:27</td>\n",
       "      <td>na</td>\n",
       "      <td>0.6667</td>\n",
       "      <td>Atlanta</td>\n",
       "      <td>NaN</td>\n",
       "      <td>I see I'm not the only one giving 1 star. Only...</td>\n",
       "    </tr>\n",
       "    <tr>\n",
       "      <th>4</th>\n",
       "      <td>679455657</td>\n",
       "      <td>False</td>\n",
       "      <td>finalized</td>\n",
       "      <td>3</td>\n",
       "      <td>2/21/15 0:27</td>\n",
       "      <td>RudeService</td>\n",
       "      <td>1</td>\n",
       "      <td>Atlanta</td>\n",
       "      <td>NaN</td>\n",
       "      <td>Well, it's McDonald's, so you know what the fo...</td>\n",
       "    </tr>\n",
       "  </tbody>\n",
       "</table>\n",
       "</div>"
      ],
      "text/plain": [
       "    _unit_id  _golden _unit_state  _trusted_judgments _last_judgment_at  \\\n",
       "0  679455653    False   finalized                   3      2/21/15 0:36   \n",
       "1  679455654    False   finalized                   3      2/21/15 0:27   \n",
       "2  679455655    False   finalized                   3      2/21/15 0:26   \n",
       "3  679455656    False   finalized                   3      2/21/15 0:27   \n",
       "4  679455657    False   finalized                   3      2/21/15 0:27   \n",
       "\n",
       "                   policies_violated policies_violated:confidence     city  \\\n",
       "0  RudeService\\rOrderProblem\\rFilthy          1.0\\r0.6667\\r0.6667  Atlanta   \n",
       "1                        RudeService                            1  Atlanta   \n",
       "2          SlowService\\rOrderProblem                     1.0\\r1.0  Atlanta   \n",
       "3                                 na                       0.6667  Atlanta   \n",
       "4                        RudeService                            1  Atlanta   \n",
       "\n",
       "   policies_violated_gold                                             review  \n",
       "0                     NaN  I'm not a huge mcds lover, but I've been to be...  \n",
       "1                     NaN  Terrible customer service. Î¾I came in at 9:30...  \n",
       "2                     NaN  First they \"lost\" my order, actually they gave...  \n",
       "3                     NaN  I see I'm not the only one giving 1 star. Only...  \n",
       "4                     NaN  Well, it's McDonald's, so you know what the fo...  "
      ]
     },
     "execution_count": 625,
     "metadata": {},
     "output_type": "execute_result"
    }
   ],
   "source": [
    "df = pd.read_csv('McDonalds-Yelp-Sentiment-DFE.csv', encoding='ISO-8859-1')\n",
    "df.head()"
   ]
  },
  {
   "cell_type": "markdown",
   "metadata": {},
   "source": [
    "The following are explanations of some features and target in this dataset. \n",
    "- policies_violated: the negative review category (the target)\n",
    "- city: the city where the McDonald's stores are located at\n",
    "- review: the reviews text"
   ]
  },
  {
   "cell_type": "markdown",
   "metadata": {},
   "source": [
    "### 1.2 API from Yelp.com to get reviews data of KFC restaurants in the same cities\n",
    "\n",
    "__Please see the separate notebook \"mod4_API\" in repository for code of API from Yelp.com and relevant data cleaning. We have the data output in a kfc.csv file and will use it in section 5 in this main notebook.__ \n",
    "\n",
    "Using API, we get reviews of KFC in the same cities. We filter to get reviews with ratings less or equal to 2 (which are all negative reviews). Goal is to see how the model we established works on similar fast food restaurants. "
   ]
  },
  {
   "cell_type": "markdown",
   "metadata": {},
   "source": [
    "### 1.3 Deal with the 'na' and NaN values in negative negative review category"
   ]
  },
  {
   "cell_type": "code",
   "execution_count": 626,
   "metadata": {
    "scrolled": true
   },
   "outputs": [
    {
     "data": {
      "text/html": [
       "<div>\n",
       "<style scoped>\n",
       "    .dataframe tbody tr th:only-of-type {\n",
       "        vertical-align: middle;\n",
       "    }\n",
       "\n",
       "    .dataframe tbody tr th {\n",
       "        vertical-align: top;\n",
       "    }\n",
       "\n",
       "    .dataframe thead th {\n",
       "        text-align: right;\n",
       "    }\n",
       "</style>\n",
       "<table border=\"1\" class=\"dataframe\">\n",
       "  <thead>\n",
       "    <tr style=\"text-align: right;\">\n",
       "      <th></th>\n",
       "      <th>_unit_id</th>\n",
       "      <th>_golden</th>\n",
       "      <th>_unit_state</th>\n",
       "      <th>_trusted_judgments</th>\n",
       "      <th>_last_judgment_at</th>\n",
       "      <th>policies_violated</th>\n",
       "      <th>policies_violated:confidence</th>\n",
       "      <th>city</th>\n",
       "      <th>policies_violated_gold</th>\n",
       "      <th>review</th>\n",
       "    </tr>\n",
       "  </thead>\n",
       "  <tbody>\n",
       "    <tr>\n",
       "      <th>3</th>\n",
       "      <td>679455656</td>\n",
       "      <td>False</td>\n",
       "      <td>finalized</td>\n",
       "      <td>3</td>\n",
       "      <td>2/21/15 0:27</td>\n",
       "      <td>na</td>\n",
       "      <td>0.6667</td>\n",
       "      <td>Atlanta</td>\n",
       "      <td>NaN</td>\n",
       "      <td>I see I'm not the only one giving 1 star. Only...</td>\n",
       "    </tr>\n",
       "    <tr>\n",
       "      <th>9</th>\n",
       "      <td>679455662</td>\n",
       "      <td>False</td>\n",
       "      <td>finalized</td>\n",
       "      <td>3</td>\n",
       "      <td>2/21/15 0:12</td>\n",
       "      <td>na</td>\n",
       "      <td>1</td>\n",
       "      <td>Atlanta</td>\n",
       "      <td>NaN</td>\n",
       "      <td>This McDonald's has gotten much better. Usuall...</td>\n",
       "    </tr>\n",
       "    <tr>\n",
       "      <th>32</th>\n",
       "      <td>679455685</td>\n",
       "      <td>False</td>\n",
       "      <td>finalized</td>\n",
       "      <td>3</td>\n",
       "      <td>2/21/15 0:09</td>\n",
       "      <td>na</td>\n",
       "      <td>0.6641</td>\n",
       "      <td>Atlanta</td>\n",
       "      <td>NaN</td>\n",
       "      <td>This has got to be one of the busiest McDonald...</td>\n",
       "    </tr>\n",
       "    <tr>\n",
       "      <th>36</th>\n",
       "      <td>679455689</td>\n",
       "      <td>False</td>\n",
       "      <td>finalized</td>\n",
       "      <td>3</td>\n",
       "      <td>2/21/15 0:29</td>\n",
       "      <td>na</td>\n",
       "      <td>0.6588</td>\n",
       "      <td>Atlanta</td>\n",
       "      <td>NaN</td>\n",
       "      <td>Regular McDonald's. Close to the highway which...</td>\n",
       "    </tr>\n",
       "    <tr>\n",
       "      <th>38</th>\n",
       "      <td>679455691</td>\n",
       "      <td>False</td>\n",
       "      <td>finalized</td>\n",
       "      <td>3</td>\n",
       "      <td>2/21/15 1:03</td>\n",
       "      <td>na</td>\n",
       "      <td>1</td>\n",
       "      <td>Atlanta</td>\n",
       "      <td>NaN</td>\n",
       "      <td>I highly recommend this McDonalds!******if and...</td>\n",
       "    </tr>\n",
       "    <tr>\n",
       "      <th>...</th>\n",
       "      <td>...</td>\n",
       "      <td>...</td>\n",
       "      <td>...</td>\n",
       "      <td>...</td>\n",
       "      <td>...</td>\n",
       "      <td>...</td>\n",
       "      <td>...</td>\n",
       "      <td>...</td>\n",
       "      <td>...</td>\n",
       "      <td>...</td>\n",
       "    </tr>\n",
       "    <tr>\n",
       "      <th>1495</th>\n",
       "      <td>679457178</td>\n",
       "      <td>False</td>\n",
       "      <td>finalized</td>\n",
       "      <td>3</td>\n",
       "      <td>2/21/15 0:37</td>\n",
       "      <td>na</td>\n",
       "      <td>1</td>\n",
       "      <td>NaN</td>\n",
       "      <td>NaN</td>\n",
       "      <td>very good mcdonald's ,good service</td>\n",
       "    </tr>\n",
       "    <tr>\n",
       "      <th>1496</th>\n",
       "      <td>679457179</td>\n",
       "      <td>False</td>\n",
       "      <td>finalized</td>\n",
       "      <td>3</td>\n",
       "      <td>2/21/15 0:15</td>\n",
       "      <td>na</td>\n",
       "      <td>0.6523</td>\n",
       "      <td>NaN</td>\n",
       "      <td>NaN</td>\n",
       "      <td>Came here for the McCafe.Coffee was a little l...</td>\n",
       "    </tr>\n",
       "    <tr>\n",
       "      <th>1506</th>\n",
       "      <td>679483385</td>\n",
       "      <td>False</td>\n",
       "      <td>finalized</td>\n",
       "      <td>3</td>\n",
       "      <td>2/21/15 0:21</td>\n",
       "      <td>na</td>\n",
       "      <td>1</td>\n",
       "      <td>Las Vegas</td>\n",
       "      <td>NaN</td>\n",
       "      <td>My mom needed to meet a client to pick up docu...</td>\n",
       "    </tr>\n",
       "    <tr>\n",
       "      <th>1508</th>\n",
       "      <td>679484306</td>\n",
       "      <td>False</td>\n",
       "      <td>finalized</td>\n",
       "      <td>3</td>\n",
       "      <td>2/21/15 0:28</td>\n",
       "      <td>na</td>\n",
       "      <td>1</td>\n",
       "      <td>Dallas</td>\n",
       "      <td>NaN</td>\n",
       "      <td>I love this McDonalds! The workers are always ...</td>\n",
       "    </tr>\n",
       "    <tr>\n",
       "      <th>1515</th>\n",
       "      <td>679495463</td>\n",
       "      <td>False</td>\n",
       "      <td>finalized</td>\n",
       "      <td>3</td>\n",
       "      <td>2/21/15 0:45</td>\n",
       "      <td>na</td>\n",
       "      <td>1</td>\n",
       "      <td>Las Vegas</td>\n",
       "      <td>NaN</td>\n",
       "      <td>Ok ok ok, I know it's only a McDonald's, BUT t...</td>\n",
       "    </tr>\n",
       "  </tbody>\n",
       "</table>\n",
       "<p>304 rows × 10 columns</p>\n",
       "</div>"
      ],
      "text/plain": [
       "       _unit_id  _golden _unit_state  _trusted_judgments _last_judgment_at  \\\n",
       "3     679455656    False   finalized                   3      2/21/15 0:27   \n",
       "9     679455662    False   finalized                   3      2/21/15 0:12   \n",
       "32    679455685    False   finalized                   3      2/21/15 0:09   \n",
       "36    679455689    False   finalized                   3      2/21/15 0:29   \n",
       "38    679455691    False   finalized                   3      2/21/15 1:03   \n",
       "...         ...      ...         ...                 ...               ...   \n",
       "1495  679457178    False   finalized                   3      2/21/15 0:37   \n",
       "1496  679457179    False   finalized                   3      2/21/15 0:15   \n",
       "1506  679483385    False   finalized                   3      2/21/15 0:21   \n",
       "1508  679484306    False   finalized                   3      2/21/15 0:28   \n",
       "1515  679495463    False   finalized                   3      2/21/15 0:45   \n",
       "\n",
       "     policies_violated policies_violated:confidence       city  \\\n",
       "3                   na                       0.6667    Atlanta   \n",
       "9                   na                            1    Atlanta   \n",
       "32                  na                       0.6641    Atlanta   \n",
       "36                  na                       0.6588    Atlanta   \n",
       "38                  na                            1    Atlanta   \n",
       "...                ...                          ...        ...   \n",
       "1495                na                            1        NaN   \n",
       "1496                na                       0.6523        NaN   \n",
       "1506                na                            1  Las Vegas   \n",
       "1508                na                            1     Dallas   \n",
       "1515                na                            1  Las Vegas   \n",
       "\n",
       "      policies_violated_gold  \\\n",
       "3                        NaN   \n",
       "9                        NaN   \n",
       "32                       NaN   \n",
       "36                       NaN   \n",
       "38                       NaN   \n",
       "...                      ...   \n",
       "1495                     NaN   \n",
       "1496                     NaN   \n",
       "1506                     NaN   \n",
       "1508                     NaN   \n",
       "1515                     NaN   \n",
       "\n",
       "                                                 review  \n",
       "3     I see I'm not the only one giving 1 star. Only...  \n",
       "9     This McDonald's has gotten much better. Usuall...  \n",
       "32    This has got to be one of the busiest McDonald...  \n",
       "36    Regular McDonald's. Close to the highway which...  \n",
       "38    I highly recommend this McDonalds!******if and...  \n",
       "...                                                 ...  \n",
       "1495                 very good mcdonald's ,good service  \n",
       "1496  Came here for the McCafe.Coffee was a little l...  \n",
       "1506  My mom needed to meet a client to pick up docu...  \n",
       "1508  I love this McDonalds! The workers are always ...  \n",
       "1515  Ok ok ok, I know it's only a McDonald's, BUT t...  \n",
       "\n",
       "[304 rows x 10 columns]"
      ]
     },
     "execution_count": 626,
     "metadata": {},
     "output_type": "execute_result"
    }
   ],
   "source": [
    "df[df['policies_violated'] == 'na']"
   ]
  },
  {
   "cell_type": "code",
   "execution_count": 116,
   "metadata": {},
   "outputs": [],
   "source": [
    "df1 = pd.read_csv('McDonalds-Yelp-Sentiment-DFE.csv', encoding='ISO-8859-1')"
   ]
  },
  {
   "cell_type": "code",
   "execution_count": 117,
   "metadata": {},
   "outputs": [
    {
     "data": {
      "text/plain": [
       "(1525, 10)"
      ]
     },
     "execution_count": 117,
     "metadata": {},
     "output_type": "execute_result"
    }
   ],
   "source": [
    "df1.shape"
   ]
  },
  {
   "cell_type": "markdown",
   "metadata": {},
   "source": [
    "#### There are some observations in which the review are neutral, positive or irrelavent (cannot determine), these reviews are labeled as 'na', we drop these observations"
   ]
  },
  {
   "cell_type": "code",
   "execution_count": 627,
   "metadata": {
    "scrolled": true
   },
   "outputs": [],
   "source": [
    "df = df[df['policies_violated'] != 'na']"
   ]
  },
  {
   "cell_type": "code",
   "execution_count": 628,
   "metadata": {},
   "outputs": [
    {
     "data": {
      "text/plain": [
       "(1221, 10)"
      ]
     },
     "execution_count": 628,
     "metadata": {},
     "output_type": "execute_result"
    }
   ],
   "source": [
    "df.shape"
   ]
  },
  {
   "cell_type": "code",
   "execution_count": 629,
   "metadata": {},
   "outputs": [
    {
     "data": {
      "text/plain": [
       "_unit_id                           0\n",
       "_golden                            0\n",
       "_unit_state                        0\n",
       "_trusted_judgments                 0\n",
       "_last_judgment_at                  0\n",
       "policies_violated                  0\n",
       "policies_violated:confidence      45\n",
       "city                              71\n",
       "policies_violated_gold          1221\n",
       "review                             0\n",
       "dtype: int64"
      ]
     },
     "execution_count": 629,
     "metadata": {},
     "output_type": "execute_result"
    }
   ],
   "source": [
    "df.isna().sum()"
   ]
  },
  {
   "cell_type": "markdown",
   "metadata": {},
   "source": [
    "### 1.4 Look into the reviews and make the review data clean"
   ]
  },
  {
   "cell_type": "markdown",
   "metadata": {},
   "source": [
    "#### Some of the negative reviews have multiple complaints, we choose the most significant one (the first complaint)"
   ]
  },
  {
   "cell_type": "code",
   "execution_count": 630,
   "metadata": {
    "scrolled": true
   },
   "outputs": [],
   "source": [
    "df['senti'] = df['policies_violated'].str.split(\"\\r\").str[0]"
   ]
  },
  {
   "cell_type": "code",
   "execution_count": 631,
   "metadata": {
    "scrolled": true
   },
   "outputs": [
    {
     "data": {
      "text/plain": [
       "0       RudeService\\rOrderProblem\\rFilthy\n",
       "1                             RudeService\n",
       "2               SlowService\\rOrderProblem\n",
       "4                             RudeService\n",
       "5                    BadFood\\rSlowService\n",
       "                      ...                \n",
       "1520                         OrderProblem\n",
       "1521         SlowService\\rFilthy\\rBadFood\n",
       "1522                            ScaryMcDs\n",
       "1523                            ScaryMcDs\n",
       "1524               ScaryMcDs\\rSlowService\n",
       "Name: policies_violated, Length: 1221, dtype: object"
      ]
     },
     "execution_count": 631,
     "metadata": {},
     "output_type": "execute_result"
    }
   ],
   "source": [
    "df['policies_violated']"
   ]
  },
  {
   "cell_type": "code",
   "execution_count": 632,
   "metadata": {
    "scrolled": true
   },
   "outputs": [
    {
     "data": {
      "text/plain": [
       "0        RudeService\n",
       "1        RudeService\n",
       "2        SlowService\n",
       "4        RudeService\n",
       "5            BadFood\n",
       "            ...     \n",
       "1520    OrderProblem\n",
       "1521     SlowService\n",
       "1522       ScaryMcDs\n",
       "1523       ScaryMcDs\n",
       "1524       ScaryMcDs\n",
       "Name: senti, Length: 1221, dtype: object"
      ]
     },
     "execution_count": 632,
     "metadata": {},
     "output_type": "execute_result"
    }
   ],
   "source": [
    "df['senti']"
   ]
  },
  {
   "cell_type": "code",
   "execution_count": 633,
   "metadata": {
    "scrolled": true
   },
   "outputs": [
    {
     "data": {
      "text/plain": [
       "array(['RudeService', 'SlowService', 'BadFood', 'ScaryMcDs',\n",
       "       'OrderProblem', 'Filthy', 'MissingFood', 'Cost'], dtype=object)"
      ]
     },
     "execution_count": 633,
     "metadata": {},
     "output_type": "execute_result"
    }
   ],
   "source": [
    "df.senti.unique()"
   ]
  },
  {
   "cell_type": "code",
   "execution_count": 634,
   "metadata": {
    "scrolled": true
   },
   "outputs": [
    {
     "data": {
      "text/plain": [
       "RudeService     337\n",
       "SlowService     289\n",
       "OrderProblem    197\n",
       "BadFood         155\n",
       "ScaryMcDs       111\n",
       "Filthy           76\n",
       "MissingFood      28\n",
       "Cost             28\n",
       "Name: senti, dtype: int64"
      ]
     },
     "execution_count": 634,
     "metadata": {},
     "output_type": "execute_result"
    }
   ],
   "source": [
    "df.senti.value_counts()"
   ]
  },
  {
   "cell_type": "markdown",
   "metadata": {},
   "source": [
    "#### Change the complaint 'ScaryMcDs' to be 'BadNeighborhood' which is more intuitive."
   ]
  },
  {
   "cell_type": "code",
   "execution_count": 635,
   "metadata": {},
   "outputs": [],
   "source": [
    "df['senti'] = np.where(df['senti']=='ScaryMcDs','BadNeighborhood',df['senti'])"
   ]
  },
  {
   "cell_type": "markdown",
   "metadata": {},
   "source": [
    "## 2. Exploratory Data Analysis and reviews' statistics"
   ]
  },
  {
   "cell_type": "markdown",
   "metadata": {},
   "source": [
    "### 2.1 Review categories statistics and negative reviews distribution"
   ]
  },
  {
   "cell_type": "code",
   "execution_count": 636,
   "metadata": {
    "scrolled": true
   },
   "outputs": [
    {
     "data": {
      "text/plain": [
       "RudeService        337\n",
       "SlowService        289\n",
       "OrderProblem       197\n",
       "BadFood            155\n",
       "BadNeighborhood    111\n",
       "Filthy              76\n",
       "MissingFood         28\n",
       "Cost                28\n",
       "Name: senti, dtype: int64"
      ]
     },
     "execution_count": 636,
     "metadata": {},
     "output_type": "execute_result"
    }
   ],
   "source": [
    "df.senti.value_counts()"
   ]
  },
  {
   "cell_type": "code",
   "execution_count": 128,
   "metadata": {
    "scrolled": false
   },
   "outputs": [
    {
     "data": {
      "text/plain": [
       "(array([0, 1, 2, 3, 4, 5, 6, 7]), <a list of 8 Text major ticklabel objects>)"
      ]
     },
     "execution_count": 128,
     "metadata": {},
     "output_type": "execute_result"
    },
    {
     "data": {
      "image/png": "[encoded data removed]",
      "text/plain": [
       "<Figure size 864x576 with 1 Axes>"
      ]
     },
     "metadata": {
      "needs_background": "light"
     },
     "output_type": "display_data"
    }
   ],
   "source": [
    "plt.figure(figsize=(12,8))\n",
    "sns.barplot(df.senti.value_counts(normalize=True).index, \n",
    "            df.senti.value_counts(normalize=True).values)\n",
    "plt.xlabel('negative reviews', fontsize=20)\n",
    "plt.ylabel('category percent', fontsize=20)\n",
    "plt.title('distribution of negative reviews', fontsize=24)\n",
    "plt.xticks(fontsize=12)"
   ]
  },
  {
   "cell_type": "markdown",
   "metadata": {},
   "source": [
    "__As we can see from the above graph and statistics, the negative reviews are very imbalanced, the most 2 significant negative reviews are 'RudeService' and 'SlowService'.__ \n",
    "\n",
    "__This EDA make perfect sense and is very consistent with reality. McDonald's are fast food restaurants, they just give you food upon receiving payment and communication is very limited. Many people including me, feel that they don't care how guests feel. Being rude in service will definitely give guests bad impression and will not have them come back again. Slow service is also intolerable because people want to save time when they decide to have fast food for a meal. Imagine that you are in drive-through lane for 3 minutes, waiting for your food in early Monday morning and you are staring to complain.__\n",
    "\n",
    "__Also, as a franchise business, McDonald's stores shall not have many situations in which there are 'MissingFood' problems and 'Cost' problems (because their process is very mechanical and the cost of order do not vary much across the country).__"
   ]
  },
  {
   "cell_type": "markdown",
   "metadata": {},
   "source": [
    "### 2.2 Review performances of McDanold's in different cities"
   ]
  },
  {
   "cell_type": "code",
   "execution_count": 129,
   "metadata": {
    "scrolled": true
   },
   "outputs": [
    {
     "data": {
      "text/plain": [
       "city      senti          \n",
       "Atlanta   SlowService        0.298077\n",
       "          RudeService        0.250000\n",
       "          OrderProblem       0.163462\n",
       "          BadFood            0.134615\n",
       "          Filthy             0.105769\n",
       "                               ...   \n",
       "Portland  SlowService        0.094595\n",
       "          BadNeighborhood    0.067568\n",
       "          Filthy             0.067568\n",
       "          Cost               0.027027\n",
       "          MissingFood        0.013514\n",
       "Name: senti, Length: 72, dtype: float64"
      ]
     },
     "execution_count": 129,
     "metadata": {},
     "output_type": "execute_result"
    }
   ],
   "source": [
    "df.groupby(['city'])['senti'].value_counts(normalize = True)"
   ]
  },
  {
   "cell_type": "code",
   "execution_count": 130,
   "metadata": {},
   "outputs": [
    {
     "data": {
      "text/plain": [
       "<matplotlib.legend.Legend at 0x1a1840ce90>"
      ]
     },
     "execution_count": 130,
     "metadata": {},
     "output_type": "execute_result"
    },
    {
     "data": {
      "image/png": "[encoded data removed]",
      "text/plain": [
       "<Figure size 2160x1800 with 1 Axes>"
      ]
     },
     "metadata": {
      "needs_background": "light"
     },
     "output_type": "display_data"
    }
   ],
   "source": [
    "df.groupby(['city'])['senti'].value_counts(normalize = True).unstack(fill_value=0).plot.bar(figsize=(30,25))\n",
    "plt.title('Negative Review Distribution by City', fontsize=40)\n",
    "plt.xlabel('City', fontsize=35)\n",
    "plt.ylabel('Percentage', fontsize=35)\n",
    "plt.xticks(fontsize=30, rotation=0)\n",
    "plt.yticks(fontsize=30)\n",
    "plt.legend(fontsize=20)"
   ]
  },
  {
   "cell_type": "markdown",
   "metadata": {},
   "source": [
    "__The above plot gives an idea what major problem are with McDonald's in different cities. 'RudeService' and 'SlowService' are the most significant problems for all these cities. Not surprising at all, as we discussed previously. But other minor complaint categories varies with different cities. For example, you can see 'BadNeighborhood' happens more frequently in Top Large Cities (NYC, Los Angeles, Chicago). This makes sense and is consistent with real life situation. In large cities, it is not uncommon to have impoverished areas or specific locations where crime rates are high. So a McDonald's being located their can potentially lead to customers feeling uncomfortable.__ \n",
    "\n",
    "__Also, we noticed that in NYC, the 'SlowService' complaint is relatively low. This is because slow service fast food cannot service in NYC, where pace of life is so fast and people cannot hardly wait for more than 1 minute.__\n",
    "\n",
    "__This plot shall grab attention of McDonalds corporate executives, they shall understand how their franchise restaurants' performance varies across different cities and what are the major drawbacks in different locations, in order to enhance management and increase variouse staff training standards.__"
   ]
  },
  {
   "cell_type": "markdown",
   "metadata": {},
   "source": [
    "### 2.3 FreqDist visualization analysis of words distribution in Rude Service and Slow Service review. "
   ]
  },
  {
   "cell_type": "markdown",
   "metadata": {},
   "source": [
    "We analyze the corpus of 2 most frequent classes of negative reviews, 'RudeService' and 'SlowService'. The target is to find out how people express their dissatisfaction with the fast food restaurant."
   ]
  },
  {
   "cell_type": "code",
   "execution_count": 131,
   "metadata": {},
   "outputs": [],
   "source": [
    "# extract all reviews of 'RudeService' and 'SlowService'\n",
    "rude = df[df['senti']=='RudeService']['review'] + ' '\n",
    "slow = df[df['senti']=='SlowService']['review'] + ' '"
   ]
  },
  {
   "cell_type": "code",
   "execution_count": 132,
   "metadata": {},
   "outputs": [],
   "source": [
    "from nltk.tokenize import RegexpTokenizer\n",
    "tokenizer = RegexpTokenizer(r'[a-zA-Z0-9]+')\n",
    "# raw string\n",
    "tokenized_rude = tokenizer.tokenize(rude.sum())\n",
    "tokenized_slow = tokenizer.tokenize(slow.sum())"
   ]
  },
  {
   "cell_type": "code",
   "execution_count": 133,
   "metadata": {
    "scrolled": true
   },
   "outputs": [
    {
     "data": {
      "text/plain": [
       "(37137, 29284)"
      ]
     },
     "execution_count": 133,
     "metadata": {},
     "output_type": "execute_result"
    }
   ],
   "source": [
    "len(tokenized_rude), len(tokenized_slow)"
   ]
  },
  {
   "cell_type": "code",
   "execution_count": 134,
   "metadata": {},
   "outputs": [],
   "source": [
    "lower_rude = [w.lower() for w in tokenized_rude]\n",
    "lower_slow = [w.lower() for w in tokenized_slow]"
   ]
  },
  {
   "cell_type": "code",
   "execution_count": 135,
   "metadata": {
    "scrolled": true
   },
   "outputs": [
    {
     "data": {
      "text/plain": [
       "'!\"#$%&\\'()*+,-./:;<=>?@[\\\\]^_`{|}~'"
      ]
     },
     "execution_count": 135,
     "metadata": {},
     "output_type": "execute_result"
    }
   ],
   "source": [
    "string.punctuation"
   ]
  },
  {
   "cell_type": "code",
   "execution_count": 136,
   "metadata": {},
   "outputs": [],
   "source": [
    "# make stopwords list\n",
    "stopwords_list=stopwords.words('english')+list(string.punctuation)+['Î','î','¾','one','mcdonald','Œæ','œæ','mcdonalds','mcd','mcds','mc','u']"
   ]
  },
  {
   "cell_type": "code",
   "execution_count": 137,
   "metadata": {},
   "outputs": [
    {
     "data": {
      "text/plain": [
       "(17192, 13527)"
      ]
     },
     "execution_count": 137,
     "metadata": {},
     "output_type": "execute_result"
    }
   ],
   "source": [
    "filtered_rude=[]\n",
    "for w in lower_rude:\n",
    "    if w not in stopwords_list:\n",
    "        filtered_rude.append(w)\n",
    "        \n",
    "filtered_slow=[]\n",
    "for w in lower_slow:\n",
    "    if w not in stopwords_list:\n",
    "        filtered_slow.append(w)\n",
    "        \n",
    "len(filtered_rude), len(filtered_slow)"
   ]
  },
  {
   "cell_type": "code",
   "execution_count": 138,
   "metadata": {},
   "outputs": [
    {
     "data": {
      "text/plain": [
       "(17192, 13527)"
      ]
     },
     "execution_count": 138,
     "metadata": {},
     "output_type": "execute_result"
    }
   ],
   "source": [
    "lemmatizer = WordNetLemmatizer()\n",
    "lemmatized_rude=[]\n",
    "for w in filtered_rude:\n",
    "    lemmatized_rude.append(lemmatizer.lemmatize(w))\n",
    "\n",
    "lemmatized_slow=[]\n",
    "for w in filtered_slow:\n",
    "    lemmatized_slow.append(lemmatizer.lemmatize(w))\n",
    "\n",
    "len(lemmatized_rude), len(lemmatized_slow)"
   ]
  },
  {
   "cell_type": "code",
   "execution_count": 139,
   "metadata": {},
   "outputs": [
    {
     "data": {
      "text/plain": [
       "(17192, 13527)"
      ]
     },
     "execution_count": 139,
     "metadata": {},
     "output_type": "execute_result"
    }
   ],
   "source": [
    "ps = PorterStemmer()\n",
    "stem_rude=[]\n",
    "for w in lemmatized_rude:\n",
    "    stem_rude.append(ps.stem(w))\n",
    "\n",
    "stem_slow=[]\n",
    "for w in lemmatized_slow:\n",
    "    stem_slow.append(ps.stem(w))\n",
    "\n",
    "len(stem_rude), len(stem_slow)"
   ]
  },
  {
   "cell_type": "code",
   "execution_count": 140,
   "metadata": {
    "scrolled": false
   },
   "outputs": [
    {
     "name": "stdout",
     "output_type": "stream",
     "text": [
      "[('order', 367), ('servic', 214), ('get', 195), ('food', 194), ('go', 189), ('drive', 184), ('time', 156), ('manag', 153), ('custom', 152), ('thru', 137), ('like', 128), ('ask', 126), ('window', 122), ('place', 114), ('work', 110), ('back', 98), ('want', 97), ('give', 96), ('would', 95), ('wait', 94), ('rude', 94), ('employe', 94), ('worst', 91), ('even', 91), ('ever', 86), ('locat', 83), ('never', 80), ('say', 78), ('staff', 77), ('got', 74), ('coffe', 71), ('peopl', 70), ('come', 69), ('look', 67), ('went', 66), ('take', 64), ('could', 63), ('said', 62), ('make', 61), ('minut', 60)]\n"
     ]
    }
   ],
   "source": [
    "rude_dist = FreqDist(stem_rude)\n",
    "print(rude_dist.most_common(40))"
   ]
  },
  {
   "cell_type": "markdown",
   "metadata": {},
   "source": [
    "Graph the distribution of most frequent words"
   ]
  },
  {
   "cell_type": "code",
   "execution_count": 141,
   "metadata": {
    "scrolled": false
   },
   "outputs": [
    {
     "data": {
      "image/png": "[encoded data removed]",
      "text/plain": [
       "<Figure size 1152x720 with 1 Axes>"
      ]
     },
     "metadata": {
      "needs_background": "light"
     },
     "output_type": "display_data"
    },
    {
     "data": {
      "text/plain": [
       "<matplotlib.axes._subplots.AxesSubplot at 0x1a1ef7a7d0>"
      ]
     },
     "execution_count": 141,
     "metadata": {},
     "output_type": "execute_result"
    }
   ],
   "source": [
    "plt.figure(figsize=(16,10))\n",
    "rude_dist.plot(40)"
   ]
  },
  {
   "cell_type": "code",
   "execution_count": 142,
   "metadata": {},
   "outputs": [
    {
     "name": "stdout",
     "output_type": "stream",
     "text": [
      "[('order', 313), ('food', 211), ('wait', 201), ('get', 187), ('drive', 186), ('time', 178), ('minut', 153), ('go', 146), ('servic', 143), ('thru', 123), ('place', 119), ('line', 117), ('slow', 116), ('locat', 98), ('peopl', 90), ('take', 84), ('ever', 79), ('ask', 75), ('would', 74), ('like', 72), ('custom', 69), ('alway', 68), ('even', 68), ('fast', 65), ('got', 65), ('window', 63), ('long', 62), ('back', 61), ('work', 61), ('worst', 60), ('manag', 59), ('fri', 57), ('2', 57), ('took', 54), ('come', 54), ('10', 53), ('car', 50), ('anoth', 49), ('never', 49), ('two', 47)]\n"
     ]
    }
   ],
   "source": [
    "slow_dist = FreqDist(stem_slow)\n",
    "print(slow_dist.most_common(40))"
   ]
  },
  {
   "cell_type": "code",
   "execution_count": 143,
   "metadata": {
    "scrolled": false
   },
   "outputs": [
    {
     "data": {
      "image/png": "[encoded data removed]",
      "text/plain": [
       "<Figure size 1152x720 with 1 Axes>"
      ]
     },
     "metadata": {
      "needs_background": "light"
     },
     "output_type": "display_data"
    },
    {
     "data": {
      "text/plain": [
       "<matplotlib.axes._subplots.AxesSubplot at 0x1a1f0486d0>"
      ]
     },
     "execution_count": 143,
     "metadata": {},
     "output_type": "execute_result"
    }
   ],
   "source": [
    "plt.figure(figsize=(16,10))\n",
    "slow_dist.plot(40)"
   ]
  },
  {
   "cell_type": "markdown",
   "metadata": {},
   "source": [
    "__As we can see from the above 2 plots, the most frequent 40 words in 'RudeService' and 'SlowService' range from frequency between more than 350 to 50. The common important words are 'order', 'food', 'get', 'service' (as you can imagine these appear very frequent in restaurant reviews, these are common non-stop words). What makes the these 2 review different are the mid-high frequent words such as 'rude', 'worst' in Rude Service Review and 'wait', 'minute' in Slow Service Review.__"
   ]
  },
  {
   "cell_type": "markdown",
   "metadata": {},
   "source": [
    "### 2.4 More intuitive corpus statistics & visualization and frequent words exploratory"
   ]
  },
  {
   "cell_type": "code",
   "execution_count": 144,
   "metadata": {},
   "outputs": [],
   "source": [
    "rude_word = [x[0] for x in rude_dist.most_common(40)]\n",
    "rude_count = [x[1] for x in rude_dist.most_common(40)]\n",
    "\n",
    "slow_word = [x[0] for x in slow_dist.most_common(40)]\n",
    "slow_count = [x[1] for x in slow_dist.most_common(40)]"
   ]
  },
  {
   "cell_type": "code",
   "execution_count": 145,
   "metadata": {
    "scrolled": false
   },
   "outputs": [
    {
     "data": {
      "image/png": "[encoded data removed]",
      "text/plain": [
       "<Figure size 1008x576 with 2 Axes>"
      ]
     },
     "metadata": {
      "needs_background": "light"
     },
     "output_type": "display_data"
    }
   ],
   "source": [
    "colors1 = cm.autumn_r(np.linspace(0.2,0.8,40))\n",
    "colors1 = colors1[::-1]\n",
    "count_figure = plt.figure(figsize=(14,8))\n",
    "\n",
    "ax1 = count_figure.add_subplot(211)\n",
    "ax2 = count_figure.add_subplot(212)\n",
    "\n",
    "ax1.bar(rude_word, rude_count, color = colors1)\n",
    "ax2.bar(slow_word, slow_count, color = colors1)\n",
    "\n",
    "ax1.set_title(\"review 'rude'\",fontsize=20)\n",
    "ax2.set_title(\"review 'slow'\",fontsize=20)\n",
    "\n",
    "ax1.set_ylabel('count', fontsize=20)\n",
    "ax2.set_ylabel('count', fontsize=20)\n",
    "\n",
    "plt.sca(ax1)\n",
    "plt.xticks(rotation=75, fontsize=16)\n",
    "plt.sca(ax2)\n",
    "plt.xticks(rotation=78, fontsize=16)\n",
    "\n",
    "plt.tight_layout(pad=1)"
   ]
  },
  {
   "cell_type": "markdown",
   "metadata": {},
   "source": [
    "__The above 4 plots gave us an idea about how guests express the dissatisfaction of McDonald's. The graphes are very self-explanatory and are consistent with people's daily expressions. As you can see from the 'SlowService' review plot, there are words frequently appear like 'wait', 'minute', 'slow', 'long', etc, all of which are concerns about time. Also in 'RudeService', there are frequent words like 'manager', 'customer', 'work', 'rude', 'staff', all of which are related to what people say when they complain about restaurant people and their attitudes.__ \n",
    "\n",
    "__EDA here are very consistent with our daily life.__"
   ]
  },
  {
   "cell_type": "code",
   "execution_count": null,
   "metadata": {},
   "outputs": [],
   "source": []
  },
  {
   "cell_type": "markdown",
   "metadata": {},
   "source": [
    "## 3. Preprocessing and Feature Engineering"
   ]
  },
  {
   "cell_type": "markdown",
   "metadata": {},
   "source": [
    "### 3.1 Create new column with classifying integers to represent sentiment classes"
   ]
  },
  {
   "cell_type": "code",
   "execution_count": 637,
   "metadata": {},
   "outputs": [],
   "source": [
    "# represent sentiment values by integers to prepare for classification latter\n",
    "df['sent'] = np.where(df['senti'] == 'RudeService', 1, df['senti'])\n",
    "df['sent'] = np.where(df['senti'] == 'SlowService', 2, df['sent'])\n",
    "df['sent'] = np.where(df['senti'] == 'OrderProblem', 3, df['sent'])\n",
    "df['sent'] = np.where(df['senti'] == 'BadFood', 4, df['sent'])\n",
    "df['sent'] = np.where(df['senti'] == 'BadNeighborhood', 5, df['sent'])\n",
    "df['sent'] = np.where(df['senti'] == 'Filthy', 6, df['sent'])\n",
    "df['sent'] = np.where(df['senti'] == 'MissingFood', 7, df['sent'])\n",
    "df['sent'] = np.where(df['senti'] == 'Cost', 8, df['sent'])"
   ]
  },
  {
   "cell_type": "code",
   "execution_count": 638,
   "metadata": {
    "scrolled": true
   },
   "outputs": [
    {
     "data": {
      "text/plain": [
       "1    337\n",
       "2    289\n",
       "3    197\n",
       "4    155\n",
       "5    111\n",
       "6     76\n",
       "8     28\n",
       "7     28\n",
       "Name: sent, dtype: int64"
      ]
     },
     "execution_count": 638,
     "metadata": {},
     "output_type": "execute_result"
    }
   ],
   "source": [
    "df.sent.value_counts()"
   ]
  },
  {
   "cell_type": "code",
   "execution_count": 639,
   "metadata": {
    "scrolled": true
   },
   "outputs": [
    {
     "data": {
      "text/plain": [
       "RudeService        337\n",
       "SlowService        289\n",
       "OrderProblem       197\n",
       "BadFood            155\n",
       "BadNeighborhood    111\n",
       "Filthy              76\n",
       "MissingFood         28\n",
       "Cost                28\n",
       "Name: senti, dtype: int64"
      ]
     },
     "execution_count": 639,
     "metadata": {},
     "output_type": "execute_result"
    }
   ],
   "source": [
    "df.senti.value_counts()"
   ]
  },
  {
   "cell_type": "markdown",
   "metadata": {},
   "source": [
    "### 3.2 Make new feature 'senti_pol' using TextBlob to get sentiments automatically and to compare with our target sentiments"
   ]
  },
  {
   "cell_type": "markdown",
   "metadata": {},
   "source": [
    "__From the EDA section, we know that negative reviews vary in different cities, now we can see from TextBlob.polarity how is McDonald's store perform in different cities.__"
   ]
  },
  {
   "cell_type": "code",
   "execution_count": 149,
   "metadata": {},
   "outputs": [],
   "source": [
    "def detect_sentiment(text):\n",
    "    return TextBlob(text).sentiment.polarity"
   ]
  },
  {
   "cell_type": "code",
   "execution_count": 640,
   "metadata": {},
   "outputs": [],
   "source": [
    "df['senti_pol'] = df.review.apply(detect_sentiment)"
   ]
  },
  {
   "cell_type": "code",
   "execution_count": 641,
   "metadata": {},
   "outputs": [
    {
     "data": {
      "text/html": [
       "<div>\n",
       "<style scoped>\n",
       "    .dataframe tbody tr th:only-of-type {\n",
       "        vertical-align: middle;\n",
       "    }\n",
       "\n",
       "    .dataframe tbody tr th {\n",
       "        vertical-align: top;\n",
       "    }\n",
       "\n",
       "    .dataframe thead th {\n",
       "        text-align: right;\n",
       "    }\n",
       "</style>\n",
       "<table border=\"1\" class=\"dataframe\">\n",
       "  <thead>\n",
       "    <tr style=\"text-align: right;\">\n",
       "      <th></th>\n",
       "      <th>count</th>\n",
       "      <th>mean</th>\n",
       "      <th>std</th>\n",
       "      <th>min</th>\n",
       "      <th>25%</th>\n",
       "      <th>50%</th>\n",
       "      <th>75%</th>\n",
       "      <th>max</th>\n",
       "    </tr>\n",
       "    <tr>\n",
       "      <th>city</th>\n",
       "      <th></th>\n",
       "      <th></th>\n",
       "      <th></th>\n",
       "      <th></th>\n",
       "      <th></th>\n",
       "      <th></th>\n",
       "      <th></th>\n",
       "      <th></th>\n",
       "    </tr>\n",
       "  </thead>\n",
       "  <tbody>\n",
       "    <tr>\n",
       "      <th>Atlanta</th>\n",
       "      <td>104.0</td>\n",
       "      <td>-0.036259</td>\n",
       "      <td>0.209709</td>\n",
       "      <td>-0.650000</td>\n",
       "      <td>-0.164167</td>\n",
       "      <td>-0.012500</td>\n",
       "      <td>0.071002</td>\n",
       "      <td>0.700000</td>\n",
       "    </tr>\n",
       "    <tr>\n",
       "      <th>Chicago</th>\n",
       "      <td>173.0</td>\n",
       "      <td>-0.048061</td>\n",
       "      <td>0.233647</td>\n",
       "      <td>-1.000000</td>\n",
       "      <td>-0.154805</td>\n",
       "      <td>-0.004762</td>\n",
       "      <td>0.077273</td>\n",
       "      <td>0.577778</td>\n",
       "    </tr>\n",
       "    <tr>\n",
       "      <th>Cleveland</th>\n",
       "      <td>63.0</td>\n",
       "      <td>-0.079588</td>\n",
       "      <td>0.220586</td>\n",
       "      <td>-0.587500</td>\n",
       "      <td>-0.163355</td>\n",
       "      <td>-0.031181</td>\n",
       "      <td>0.048489</td>\n",
       "      <td>0.300000</td>\n",
       "    </tr>\n",
       "    <tr>\n",
       "      <th>Dallas</th>\n",
       "      <td>61.0</td>\n",
       "      <td>-0.001240</td>\n",
       "      <td>0.200034</td>\n",
       "      <td>-0.442857</td>\n",
       "      <td>-0.130051</td>\n",
       "      <td>0.002083</td>\n",
       "      <td>0.100000</td>\n",
       "      <td>0.781250</td>\n",
       "    </tr>\n",
       "    <tr>\n",
       "      <th>Houston</th>\n",
       "      <td>81.0</td>\n",
       "      <td>-0.051547</td>\n",
       "      <td>0.209129</td>\n",
       "      <td>-0.926667</td>\n",
       "      <td>-0.157652</td>\n",
       "      <td>-0.016667</td>\n",
       "      <td>0.065344</td>\n",
       "      <td>0.336111</td>\n",
       "    </tr>\n",
       "    <tr>\n",
       "      <th>Las Vegas</th>\n",
       "      <td>327.0</td>\n",
       "      <td>-0.060980</td>\n",
       "      <td>0.229384</td>\n",
       "      <td>-1.000000</td>\n",
       "      <td>-0.185078</td>\n",
       "      <td>-0.043519</td>\n",
       "      <td>0.079399</td>\n",
       "      <td>0.700000</td>\n",
       "    </tr>\n",
       "    <tr>\n",
       "      <th>Los Angeles</th>\n",
       "      <td>138.0</td>\n",
       "      <td>-0.037068</td>\n",
       "      <td>0.222257</td>\n",
       "      <td>-0.750000</td>\n",
       "      <td>-0.129911</td>\n",
       "      <td>-0.027001</td>\n",
       "      <td>0.115083</td>\n",
       "      <td>0.600000</td>\n",
       "    </tr>\n",
       "    <tr>\n",
       "      <th>New York</th>\n",
       "      <td>129.0</td>\n",
       "      <td>-0.019838</td>\n",
       "      <td>0.259415</td>\n",
       "      <td>-0.800000</td>\n",
       "      <td>-0.130556</td>\n",
       "      <td>0.007937</td>\n",
       "      <td>0.097669</td>\n",
       "      <td>1.000000</td>\n",
       "    </tr>\n",
       "    <tr>\n",
       "      <th>Portland</th>\n",
       "      <td>74.0</td>\n",
       "      <td>-0.004563</td>\n",
       "      <td>0.215332</td>\n",
       "      <td>-0.588889</td>\n",
       "      <td>-0.121554</td>\n",
       "      <td>0.000000</td>\n",
       "      <td>0.113359</td>\n",
       "      <td>0.937500</td>\n",
       "    </tr>\n",
       "  </tbody>\n",
       "</table>\n",
       "</div>"
      ],
      "text/plain": [
       "             count      mean       std       min       25%       50%  \\\n",
       "city                                                                   \n",
       "Atlanta      104.0 -0.036259  0.209709 -0.650000 -0.164167 -0.012500   \n",
       "Chicago      173.0 -0.048061  0.233647 -1.000000 -0.154805 -0.004762   \n",
       "Cleveland     63.0 -0.079588  0.220586 -0.587500 -0.163355 -0.031181   \n",
       "Dallas        61.0 -0.001240  0.200034 -0.442857 -0.130051  0.002083   \n",
       "Houston       81.0 -0.051547  0.209129 -0.926667 -0.157652 -0.016667   \n",
       "Las Vegas    327.0 -0.060980  0.229384 -1.000000 -0.185078 -0.043519   \n",
       "Los Angeles  138.0 -0.037068  0.222257 -0.750000 -0.129911 -0.027001   \n",
       "New York     129.0 -0.019838  0.259415 -0.800000 -0.130556  0.007937   \n",
       "Portland      74.0 -0.004563  0.215332 -0.588889 -0.121554  0.000000   \n",
       "\n",
       "                  75%       max  \n",
       "city                             \n",
       "Atlanta      0.071002  0.700000  \n",
       "Chicago      0.077273  0.577778  \n",
       "Cleveland    0.048489  0.300000  \n",
       "Dallas       0.100000  0.781250  \n",
       "Houston      0.065344  0.336111  \n",
       "Las Vegas    0.079399  0.700000  \n",
       "Los Angeles  0.115083  0.600000  \n",
       "New York     0.097669  1.000000  \n",
       "Portland     0.113359  0.937500  "
      ]
     },
     "execution_count": 641,
     "metadata": {},
     "output_type": "execute_result"
    }
   ],
   "source": [
    "df.groupby(['city'])['senti_pol'].describe()"
   ]
  },
  {
   "cell_type": "code",
   "execution_count": 152,
   "metadata": {},
   "outputs": [
    {
     "data": {
      "text/plain": [
       "<matplotlib.legend.Legend at 0x1a1ef8e290>"
      ]
     },
     "execution_count": 152,
     "metadata": {},
     "output_type": "execute_result"
    },
    {
     "data": {
      "image/png": "[encoded data removed]",
      "text/plain": [
       "<Figure size 1080x720 with 1 Axes>"
      ]
     },
     "metadata": {
      "needs_background": "light"
     },
     "output_type": "display_data"
    }
   ],
   "source": [
    "df.groupby(['city'])['senti_pol'].mean().plot.bar(figsize=(15,10))\n",
    "plt.title('Average Review Sentiment per City', fontsize=25)\n",
    "plt.ylabel('Sentiment Intensity', fontsize=20)\n",
    "plt.xticks(fontsize=15, rotation=0)\n",
    "plt.yticks(fontsize=10)\n",
    "plt.legend(fontsize=10)"
   ]
  },
  {
   "cell_type": "markdown",
   "metadata": {},
   "source": [
    "__The above graph shows the intensity of negative reviews by sentiment analyzer from TextBlob for each city. It is no surprise that Cleveland stands out again. We can see the mean sentiment values by TextBlob for all cities are all negative, meaning that TextBlob classified sentiment are generally consistent with the original dataset review orientation.__"
   ]
  },
  {
   "cell_type": "markdown",
   "metadata": {},
   "source": [
    "### 3.3 process the whole 'review' column and prepare for TFIDF"
   ]
  },
  {
   "cell_type": "markdown",
   "metadata": {},
   "source": [
    "__From the previous EDA section, we have got an idea about important words and unimportant words, now we are going to remove unimportant words by defining function that removes all stopwords, punctuations & unimportant words as well as signs in all reviews.__"
   ]
  },
  {
   "cell_type": "code",
   "execution_count": 153,
   "metadata": {},
   "outputs": [],
   "source": [
    "reviews = df['review']\n",
    "target = df['sent']"
   ]
  },
  {
   "cell_type": "code",
   "execution_count": 154,
   "metadata": {},
   "outputs": [],
   "source": [
    "\n",
    "def reduce(text):\n",
    "    tokens = tokenizer.tokenize(text) # tokenize every review\n",
    "    removed = [token.lower() for token in tokens if token.lower() not in stopwords_list]\n",
    "    return removed"
   ]
  },
  {
   "cell_type": "code",
   "execution_count": 155,
   "metadata": {},
   "outputs": [],
   "source": [
    "# remove all stopwords, punctuations & unimportant words from the reviews and make a list\n",
    "processed_data = list(map(reduce, reviews))"
   ]
  },
  {
   "cell_type": "markdown",
   "metadata": {},
   "source": [
    "__Since the NLP in this project is a very practical, real life case, we need to try (1) only stemming, (2) only lemmatization, (3) combination (stemming first) and (4) combination (lemmatizing first) to see which one performs best.__"
   ]
  },
  {
   "cell_type": "code",
   "execution_count": 156,
   "metadata": {},
   "outputs": [],
   "source": [
    "# firstly lemmatize and then stem all the reviews\n",
    "\n",
    "review_clean = []\n",
    "for j in processed_data:\n",
    "    lem = [lemmatizer.lemmatize(w) for w in j]\n",
    "    ste = ' '.join([ps.stem(wo) for wo in lem])\n",
    "    review_clean.append(ste)"
   ]
  },
  {
   "cell_type": "code",
   "execution_count": 157,
   "metadata": {},
   "outputs": [],
   "source": [
    "Xc = review_clean\n",
    "yc = target"
   ]
  },
  {
   "cell_type": "code",
   "execution_count": 158,
   "metadata": {},
   "outputs": [],
   "source": [
    "yc = yc.astype('int')"
   ]
  },
  {
   "cell_type": "code",
   "execution_count": 159,
   "metadata": {},
   "outputs": [],
   "source": [
    "# firstly stem and then lemmatize all the reviews\n",
    "\n",
    "review_clean1 = []\n",
    "for j in processed_data:\n",
    "    ste = [ps.stem(wo) for wo in j]\n",
    "    lem = ' '.join([lemmatizer.lemmatize(w) for w in ste])\n",
    "    review_clean1.append(lem)"
   ]
  },
  {
   "cell_type": "code",
   "execution_count": 160,
   "metadata": {},
   "outputs": [],
   "source": [
    "Xc1 = review_clean1\n",
    "yc1 = target"
   ]
  },
  {
   "cell_type": "code",
   "execution_count": 161,
   "metadata": {},
   "outputs": [],
   "source": [
    "yc1 = yc1.astype('int')"
   ]
  },
  {
   "cell_type": "code",
   "execution_count": 162,
   "metadata": {},
   "outputs": [],
   "source": [
    "# only stemming\n",
    "\n",
    "review_clean2 = []\n",
    "for j in processed_data:\n",
    "    ste = ' '.join([ps.stem(w) for w in j])\n",
    "    review_clean2.append(ste)"
   ]
  },
  {
   "cell_type": "code",
   "execution_count": 163,
   "metadata": {},
   "outputs": [],
   "source": [
    "Xc2 = review_clean2\n",
    "yc2 = target"
   ]
  },
  {
   "cell_type": "code",
   "execution_count": 164,
   "metadata": {},
   "outputs": [],
   "source": [
    "yc2 = yc2.astype('int')"
   ]
  },
  {
   "cell_type": "code",
   "execution_count": 165,
   "metadata": {},
   "outputs": [],
   "source": [
    "# only lemmatizing\n",
    "\n",
    "review_clean3 = []\n",
    "for j in processed_data:\n",
    "    lem = ' '.join([lemmatizer.lemmatize(w) for w in j])\n",
    "    review_clean3.append(lem)"
   ]
  },
  {
   "cell_type": "code",
   "execution_count": 166,
   "metadata": {},
   "outputs": [],
   "source": [
    "Xc3 = review_clean3\n",
    "yc3 = target"
   ]
  },
  {
   "cell_type": "code",
   "execution_count": 167,
   "metadata": {},
   "outputs": [],
   "source": [
    "yc3 = yc3.astype('int')"
   ]
  },
  {
   "cell_type": "markdown",
   "metadata": {},
   "source": [
    "### 3.4 TFIDF transform of each processed groups"
   ]
  },
  {
   "cell_type": "code",
   "execution_count": 168,
   "metadata": {},
   "outputs": [],
   "source": [
    "# firstly lemmatize and then stem all the reviews\n",
    "\n",
    "Xc_train, Xc_test, yc_train, yc_test = train_test_split(Xc, yc, test_size=0.2, random_state=1)\n",
    "tfVectorizer = TfidfVectorizer()\n",
    "\n",
    "Xc_train_tf = tfVectorizer.fit_transform(Xc_train)\n",
    "Xc_test_tf = tfVectorizer.transform(Xc_test)"
   ]
  },
  {
   "cell_type": "code",
   "execution_count": 169,
   "metadata": {},
   "outputs": [],
   "source": [
    "# firstly stem and then lemmatize all the reviews\n",
    "\n",
    "Xc1_train, Xc1_test, yc1_train, yc1_test = train_test_split(Xc1, yc1, test_size=0.2, random_state=1)\n",
    "tfVectorizer = TfidfVectorizer()\n",
    "\n",
    "Xc1_train_tf = tfVectorizer.fit_transform(Xc1_train)\n",
    "Xc1_test_tf = tfVectorizer.transform(Xc1_test)"
   ]
  },
  {
   "cell_type": "code",
   "execution_count": 552,
   "metadata": {},
   "outputs": [],
   "source": [
    "# only stemming\n",
    "\n",
    "Xc2_train, Xc2_test, yc2_train, yc2_test = train_test_split(Xc2, yc2, test_size=0.2, random_state=1)\n",
    "tfVectorizer_stem = TfidfVectorizer()\n",
    "\n",
    "Xc2_train_tf = tfVectorizer_stem.fit_transform(Xc2_train)\n",
    "Xc2_test_tf = tfVectorizer_stem.transform(Xc2_test)"
   ]
  },
  {
   "cell_type": "code",
   "execution_count": 171,
   "metadata": {},
   "outputs": [],
   "source": [
    "# only lemmatizing\n",
    "\n",
    "Xc3_train, Xc3_test, yc3_train, yc3_test = train_test_split(Xc3, yc3, test_size=0.2, random_state=1)\n",
    "tfVectorizer = TfidfVectorizer()\n",
    "\n",
    "Xc3_train_tf = tfVectorizer.fit_transform(Xc3_train)\n",
    "Xc3_test_tf = tfVectorizer.transform(Xc3_test)"
   ]
  },
  {
   "cell_type": "markdown",
   "metadata": {},
   "source": [
    "## 4. Various Model Fitting"
   ]
  },
  {
   "cell_type": "markdown",
   "metadata": {},
   "source": [
    "### 4.1 Try Random Forest and Naive Bayes Classifier"
   ]
  },
  {
   "cell_type": "markdown",
   "metadata": {},
   "source": [
    "__2 models -- Random Forest and Naive Bayes are tried on all 4 sets of preprocessed data: (1) only stemming, (2) only lemmatization, (3) combination (stemming first) and (4) combination (lemmatizing first) to see which one performs best.__"
   ]
  },
  {
   "cell_type": "code",
   "execution_count": 522,
   "metadata": {},
   "outputs": [],
   "source": [
    "rf_classifier = RandomForestClassifier(n_estimators=250)"
   ]
  },
  {
   "cell_type": "code",
   "execution_count": 436,
   "metadata": {},
   "outputs": [],
   "source": [
    "nb_classifier = MultinomialNB(alpha=0.15, fit_prior=False)"
   ]
  },
  {
   "cell_type": "code",
   "execution_count": 275,
   "metadata": {},
   "outputs": [
    {
     "name": "stdout",
     "output_type": "stream",
     "text": [
      "random forest accuracy: 0.5959183673469388 random forest f1: 0.5768140560806009\n"
     ]
    }
   ],
   "source": [
    "# firstly lemmatize and then stem all the reviews random forest\n",
    "\n",
    "rf_classifier.fit(Xc_train_tf, yc_train)\n",
    "yc_preds = rf_classifier.predict(Xc_test_tf)\n",
    "print('random forest accuracy:',accuracy_score(yc_test, yc_preds),\n",
    "      'random forest f1:',f1_score(yc_test, yc_preds, average = 'weighted'))"
   ]
  },
  {
   "cell_type": "code",
   "execution_count": 345,
   "metadata": {},
   "outputs": [
    {
     "name": "stdout",
     "output_type": "stream",
     "text": [
      "naive bayes accuracy: 0.5306122448979592 naive bayes f1: 0.5065849897271162\n"
     ]
    }
   ],
   "source": [
    "# firstly lemmatize and then stem all the reviews naive bayes\n",
    "\n",
    "nb_classifier.fit(Xc_train_tf, yc_train)\n",
    "yc_preds = nb_classifier.predict(Xc_test_tf)\n",
    "print('naive bayes accuracy:',accuracy_score(yc_test, yc_preds),\n",
    "      'naive bayes f1:',f1_score(yc_test, yc_preds, average = 'weighted'))"
   ]
  },
  {
   "cell_type": "code",
   "execution_count": 285,
   "metadata": {},
   "outputs": [
    {
     "name": "stdout",
     "output_type": "stream",
     "text": [
      "random forest accuracy: 0.5918367346938775 random forest f1: 0.5725310584556736\n"
     ]
    }
   ],
   "source": [
    "# firstly stem and then lemmatize all the reviews random forest\n",
    "\n",
    "rf_classifier.fit(Xc1_train_tf, yc1_train)\n",
    "yc1_preds = rf_classifier.predict(Xc1_test_tf)\n",
    "print('random forest accuracy:',accuracy_score(yc1_test, yc1_preds),\n",
    "      'random forest f1:',f1_score(yc1_test, yc1_preds, average = 'weighted'))"
   ]
  },
  {
   "cell_type": "code",
   "execution_count": 286,
   "metadata": {},
   "outputs": [
    {
     "name": "stdout",
     "output_type": "stream",
     "text": [
      "naive bayes accuracy: 0.5306122448979592 naive bayes f1: 0.5065849897271162\n"
     ]
    }
   ],
   "source": [
    "# firstly stem and then lemmatize all the reviews naive bayes\n",
    "\n",
    "nb_classifier.fit(Xc1_train_tf, yc1_train)\n",
    "yc1_preds = nb_classifier.predict(Xc1_test_tf)\n",
    "print('naive bayes accuracy:',accuracy_score(yc1_test, yc1_preds),\n",
    "      'naive bayes f1:',f1_score(yc1_test, yc1_preds, average = 'weighted'))"
   ]
  },
  {
   "cell_type": "code",
   "execution_count": 615,
   "metadata": {},
   "outputs": [
    {
     "name": "stdout",
     "output_type": "stream",
     "text": [
      "random forest accuracy: 0.6204081632653061 random forest f1: 0.5987953990158914\n"
     ]
    }
   ],
   "source": [
    "# only stemming\n",
    "\n",
    "rf_classifier.fit(Xc2_train_tf, yc2_train)\n",
    "yc2_preds = rf_classifier.predict(Xc2_test_tf)\n",
    "print('random forest accuracy:',accuracy_score(yc2_test, yc2_preds),\n",
    "      'random forest f1:',f1_score(yc2_test, yc2_preds, average = 'weighted'))"
   ]
  },
  {
   "cell_type": "code",
   "execution_count": 291,
   "metadata": {},
   "outputs": [
    {
     "name": "stdout",
     "output_type": "stream",
     "text": [
      "naive bayes accuracy: 0.5265306122448979 naive bayes f1: 0.5030417451480265\n"
     ]
    }
   ],
   "source": [
    "# only stemming\n",
    "\n",
    "nb_classifier.fit(Xc2_train_tf, yc2_train)\n",
    "yc2_preds = nb_classifier.predict(Xc2_test_tf)\n",
    "print('naive bayes accuracy:',accuracy_score(yc2_test, yc2_preds),\n",
    "      'naive bayes f1:',f1_score(yc2_test, yc2_preds, average = 'weighted'))"
   ]
  },
  {
   "cell_type": "code",
   "execution_count": 307,
   "metadata": {},
   "outputs": [
    {
     "name": "stdout",
     "output_type": "stream",
     "text": [
      "the confusion matrix\n",
      "[[51  5  4  1  2  0  0  0]\n",
      " [14 50  1  0  1  0  0  0]\n",
      " [12  4 19  5  1  0  0  0]\n",
      " [ 7  7  5 20  0  0  0  0]\n",
      " [ 4  3  1  0  7  0  0  0]\n",
      " [ 6  2  0  0  2  2  0  0]\n",
      " [ 0  1  0  2  0  0  1  0]\n",
      " [ 2  0  0  3  0  0  0  0]]\n"
     ]
    }
   ],
   "source": [
    "print('the confusion matrix')\n",
    "print(confusion_matrix(yc2_test, yc2_preds))"
   ]
  },
  {
   "cell_type": "code",
   "execution_count": 327,
   "metadata": {},
   "outputs": [
    {
     "name": "stdout",
     "output_type": "stream",
     "text": [
      "random forest accuracy: 0.5306122448979592 random forest f1: 0.5052687246145329\n"
     ]
    }
   ],
   "source": [
    "# only lemmatizing\n",
    "\n",
    "rf_classifier.fit(Xc3_train_tf, yc3_train)\n",
    "yc3_preds = rf_classifier.predict(Xc3_test_tf)\n",
    "print('random forest accuracy:',accuracy_score(yc3_test, yc3_preds),\n",
    "      'random forest f1:',f1_score(yc3_test, yc3_preds, average = 'weighted'))"
   ]
  },
  {
   "cell_type": "code",
   "execution_count": 328,
   "metadata": {},
   "outputs": [
    {
     "name": "stdout",
     "output_type": "stream",
     "text": [
      "naive bayes accuracy: 0.5102040816326531 naive bayes f1: 0.48227848733036865\n"
     ]
    }
   ],
   "source": [
    "# only lemmatizing\n",
    "\n",
    "nb_classifier.fit(Xc3_train_tf, yc3_train)\n",
    "yc3_preds = nb_classifier.predict(Xc3_test_tf)\n",
    "print('naive bayes accuracy:',accuracy_score(yc3_test, yc3_preds),\n",
    "      'naive bayes f1:',f1_score(yc3_test, yc3_preds, average = 'weighted'))"
   ]
  },
  {
   "cell_type": "markdown",
   "metadata": {},
   "source": [
    "### 4.2 GridSearch for best hypeparameter tuning for NBclassifier"
   ]
  },
  {
   "cell_type": "code",
   "execution_count": 329,
   "metadata": {},
   "outputs": [],
   "source": [
    "from sklearn.model_selection import GridSearchCV"
   ]
  },
  {
   "cell_type": "code",
   "execution_count": 330,
   "metadata": {},
   "outputs": [],
   "source": [
    "nb_params = {'alpha': [0.01,0.03,0.05,0.07,0.09,0.11,0.13,0.15,0.17,0.19],\n",
    "              'fit_prior': [True, False],\n",
    "              'class_prior': [[1,2,3,4,5,6,7,8],[8,7,6,5,4,3,2,1]]}"
   ]
  },
  {
   "cell_type": "code",
   "execution_count": 338,
   "metadata": {},
   "outputs": [],
   "source": [
    "NB = MultinomialNB()"
   ]
  },
  {
   "cell_type": "code",
   "execution_count": 340,
   "metadata": {},
   "outputs": [
    {
     "name": "stdout",
     "output_type": "stream",
     "text": [
      "Fitting 7 folds for each of 40 candidates, totalling 280 fits\n"
     ]
    },
    {
     "name": "stderr",
     "output_type": "stream",
     "text": [
      "[Parallel(n_jobs=-1)]: Using backend LokyBackend with 4 concurrent workers.\n",
      "[Parallel(n_jobs=-1)]: Done  56 tasks      | elapsed:    3.5s\n",
      "[Parallel(n_jobs=-1)]: Done 280 out of 280 | elapsed:    4.1s finished\n"
     ]
    },
    {
     "data": {
      "text/plain": [
       "GridSearchCV(cv=7, estimator=MultinomialNB(), n_jobs=-1,\n",
       "             param_grid={'alpha': [0.01, 0.03, 0.05, 0.07, 0.09, 0.11, 0.13,\n",
       "                                   0.15, 0.17, 0.19],\n",
       "                         'class_prior': [[1, 2, 3, 4, 5, 6, 7, 8],\n",
       "                                         [8, 7, 6, 5, 4, 3, 2, 1]],\n",
       "                         'fit_prior': [True, False]},\n",
       "             scoring='accuracy', verbose=1)"
      ]
     },
     "execution_count": 340,
     "metadata": {},
     "output_type": "execute_result"
    }
   ],
   "source": [
    "grid_nb = GridSearchCV(NB, param_grid=nb_params, cv=7, scoring='accuracy', verbose =1, n_jobs=-1)\n",
    "grid_nb.fit(Xc_train_tf, yc_train)"
   ]
  },
  {
   "cell_type": "code",
   "execution_count": 341,
   "metadata": {},
   "outputs": [
    {
     "name": "stdout",
     "output_type": "stream",
     "text": [
      "0.4968947291146675\n",
      "{'alpha': 0.19, 'class_prior': [1, 2, 3, 4, 5, 6, 7, 8], 'fit_prior': True}\n",
      "MultinomialNB(alpha=0.19, class_prior=[1, 2, 3, 4, 5, 6, 7, 8])\n"
     ]
    }
   ],
   "source": [
    "# examine the best model\n",
    "print(grid_nb.best_score_)\n",
    "# Dictionary containing the parameters (min_samples_split) used to generate that score\n",
    "print(grid_nb.best_params_)\n",
    "# Shows default parameters that we did not specify\n",
    "print(grid_nb.best_estimator_)\n",
    "#Identify the best score during fitting with cross-validation"
   ]
  },
  {
   "cell_type": "code",
   "execution_count": 403,
   "metadata": {},
   "outputs": [
    {
     "name": "stdout",
     "output_type": "stream",
     "text": [
      "naive bayes accuracy: 0.4897959183673469 naive bayes f1: 0.48575932287212925\n"
     ]
    }
   ],
   "source": [
    "# use the best Naive Bayes to predict and check the scores\n",
    "yc_preds_NB = grid_nb.best_estimator_.predict(Xc_test_tf)\n",
    "print('naive bayes accuracy:',accuracy_score(yc_test, yc_preds_NB),\n",
    "      'naive bayes f1:',f1_score(yc_test, yc_preds_NB, average = 'weighted'))"
   ]
  },
  {
   "cell_type": "markdown",
   "metadata": {},
   "source": [
    "__As we can see here gridsearch of Naive Bayes does not give better than what we previously have with alpha=0.15, fit_prior=False as hyperparameters.__"
   ]
  },
  {
   "cell_type": "markdown",
   "metadata": {},
   "source": [
    "### 4.3 Use ADASYN and SMOTE to deal with imbalance to see if a better model can be gained"
   ]
  },
  {
   "cell_type": "markdown",
   "metadata": {},
   "source": [
    "__As this is a highly imbalanced multi-class case, in order to improve the model, we can try to use ADASYN and SMOTE__"
   ]
  },
  {
   "cell_type": "markdown",
   "metadata": {},
   "source": [
    "check the shape of sparse matrix"
   ]
  },
  {
   "cell_type": "code",
   "execution_count": 347,
   "metadata": {},
   "outputs": [
    {
     "data": {
      "text/plain": [
       "<976x4785 sparse matrix of type '<class 'numpy.float64'>'\n",
       "\twith 38739 stored elements in Compressed Sparse Row format>"
      ]
     },
     "execution_count": 347,
     "metadata": {},
     "output_type": "execute_result"
    }
   ],
   "source": [
    "Xc2_train_tf"
   ]
  },
  {
   "cell_type": "code",
   "execution_count": 348,
   "metadata": {},
   "outputs": [
    {
     "data": {
      "text/plain": [
       "(976, 4785)"
      ]
     },
     "execution_count": 348,
     "metadata": {},
     "output_type": "execute_result"
    }
   ],
   "source": [
    "Xc2_train_tf.todense().shape"
   ]
  },
  {
   "cell_type": "code",
   "execution_count": 349,
   "metadata": {},
   "outputs": [
    {
     "data": {
      "text/plain": [
       "<245x4785 sparse matrix of type '<class 'numpy.float64'>'\n",
       "\twith 9627 stored elements in Compressed Sparse Row format>"
      ]
     },
     "execution_count": 349,
     "metadata": {},
     "output_type": "execute_result"
    }
   ],
   "source": [
    "Xc2_test_tf"
   ]
  },
  {
   "cell_type": "markdown",
   "metadata": {},
   "source": [
    "__Try ADASYN to upsample__"
   ]
  },
  {
   "cell_type": "code",
   "execution_count": 352,
   "metadata": {},
   "outputs": [],
   "source": [
    "ada = ADASYN(sampling_strategy = 'minority', random_state=1)\n",
    "Xc2_train_tf_ada, yc2_train_ada = ada.fit_resample(Xc2_train_tf, yc2_train)"
   ]
  },
  {
   "cell_type": "code",
   "execution_count": 386,
   "metadata": {
    "scrolled": true
   },
   "outputs": [
    {
     "name": "stdout",
     "output_type": "stream",
     "text": [
      "random forest accuracy: 0.5918367346938775 random forest f1: 0.5745163473781577\n"
     ]
    }
   ],
   "source": [
    "rf_classifier.fit(Xc2_train_tf_ada, yc2_train_ada)\n",
    "yc2_preds_ada = rf_classifier.predict(Xc2_test_tf)\n",
    "print('random forest accuracy:', accuracy_score(yc2_test, yc2_preds_ada),\n",
    "      'random forest f1:', f1_score(yc2_test, yc2_preds_ada, average='weighted'))"
   ]
  },
  {
   "cell_type": "code",
   "execution_count": 404,
   "metadata": {},
   "outputs": [
    {
     "name": "stdout",
     "output_type": "stream",
     "text": [
      "naive bayes: 0.5224489795918368 naive bayes f1: 0.5024838277312172\n"
     ]
    }
   ],
   "source": [
    "nb_classifier.fit(Xc2_train_tf_ada, yc2_train_ada)\n",
    "yc2_preds_ada = nb_classifier.predict(Xc2_test_tf)\n",
    "print('naive bayes:', accuracy_score(yc2_test, yc2_preds_ada),\n",
    "      'naive bayes f1:', f1_score(yc2_test, yc2_preds_ada, average='weighted'))"
   ]
  },
  {
   "cell_type": "markdown",
   "metadata": {},
   "source": [
    "__Try SMOTE to upsample__"
   ]
  },
  {
   "cell_type": "code",
   "execution_count": 384,
   "metadata": {},
   "outputs": [],
   "source": [
    "from imblearn.over_sampling import SMOTE"
   ]
  },
  {
   "cell_type": "code",
   "execution_count": 385,
   "metadata": {},
   "outputs": [],
   "source": [
    "sm = SMOTE(sampling_strategy='minority', random_state=1)\n",
    "Xc2_train_tf_sm, yc2_train_sm = sm.fit_resample(Xc2_train_tf, yc2_train)"
   ]
  },
  {
   "cell_type": "code",
   "execution_count": 397,
   "metadata": {},
   "outputs": [
    {
     "name": "stdout",
     "output_type": "stream",
     "text": [
      "random forest accuracy: 0.5918367346938775 random forest f1: 0.5742050597171319\n"
     ]
    }
   ],
   "source": [
    "rf_classifier.fit(Xc2_train_tf_sm, yc2_train_sm)\n",
    "yc2_preds_sm = rf_classifier.predict(Xc2_test_tf)\n",
    "print('random forest accuracy:', accuracy_score(yc2_test, yc2_preds_sm),\n",
    "      'random forest f1:', f1_score(yc2_test, yc2_preds_sm, average='weighted'))"
   ]
  },
  {
   "cell_type": "code",
   "execution_count": 405,
   "metadata": {},
   "outputs": [
    {
     "name": "stdout",
     "output_type": "stream",
     "text": [
      "naive bayes accuracy: 0.5224489795918368 naive bayes f1: 0.5024838277312172\n"
     ]
    }
   ],
   "source": [
    "nb_classifier.fit(Xc2_train_tf_sm, yc2_train_sm)\n",
    "yc2_preds_sm = nb_classifier.predict(Xc2_test_tf)\n",
    "print('naive bayes accuracy:', accuracy_score(yc2_test, yc2_preds_sm),\n",
    "      'naive bayes f1:', f1_score(yc2_test, yc2_preds_sm, average='weighted'))"
   ]
  },
  {
   "cell_type": "markdown",
   "metadata": {},
   "source": [
    "As we can see here, upsampling by ADASYN and SMOTE does not help to get better F1 and accuracy scores"
   ]
  },
  {
   "cell_type": "markdown",
   "metadata": {},
   "source": [
    "## 5. Models Evaluation and Results Discussion"
   ]
  },
  {
   "cell_type": "markdown",
   "metadata": {},
   "source": [
    "__5.1 The metrics we used to evaluate our models are the accuracy score and weighted f1 score, as shown in section 4__.  We have 8 categories of negative reviews (RudeService, SlowService, OrderProblem, BadFood, BadNeighborhood, Filthy, MissingFood and Cost) in this case, and they are highly imbalanced (the major 2 classes are 'RudeService' and 'SlowService' and account for 52% of all negative reviews; while the minor classes, 'MissingFood' or 'Cost' for example, account for just around 2% of all negative reviews). In our case, after thorough discussion, __we are not leaning to any specific class.__ Although BadNeighborhood and Cost problems may not be easily solved by the restaurant manager, all other classes are very important from management point of view. So precision and recall are not what we prioritized as our evaluation metrics. We used an accuracy score and a weighted f1 socre as metrics to evaluate models. We used __weighted f1 score__ because we want to take the class imbalance into account, and calculate the metric for each label and find their average weighted by support(number of true predictions for each class label)."
   ]
  },
  {
   "cell_type": "markdown",
   "metadata": {},
   "source": [
    "__5.2 Based on fitting various models, tuning hyperparameters, and gridsearching__ in section 4, we found that the Random Forest Model has the best accuracy score and f1 score. Naive Bayes with alpha=0.15 performs close to Random Forest classifier. After we used TFIDF to make a sparse matrix of features with many columns, the Random Forest model performed much better than Naive Bayes. But when we tune the alpha in Naive Bayes to 0.15 (instead of default alpha =1), the Naive Bayes model improves and gets close to Random Forest. This is because there are many 0 values in the TFIDF transformed matrix and not uniformly distributed (when in the test set, there can be cases where we encounter a word which is not present in train set then its probability of existence in a class is zero, making the whole probability 0) The Naive Bayes algorithm __needs an alpha hyperparameter to do Laplace smoothing__, we need to tune the alpha to reach the best performance of Naive Bayes, so we cannot just use the default input. "
   ]
  },
  {
   "cell_type": "markdown",
   "metadata": {},
   "source": [
    "__5.3 The way we preprocess the data really has an influence on prediction__. The way the corpus is preprocessed will differentiate the results. For example, in this project, we found out that stemming works better than lemmatization while normally lemmatization will do a better job than stemming. This is because we are dealing with Yelp reviews. When writing Yelp reviews, many people do not pay attention to proper grammar rules, some times not even completing words, they don't fully complete their sentances and they are trying to write as simple as possible as long as they can express their dissatisfaction. In this particular case, it makes sense that stemming works better. Thus, in NLP, data scientists shall firstly look into the corpus, understand how the texts look like and then determine which preprocessing steps make sense. "
   ]
  },
  {
   "cell_type": "markdown",
   "metadata": {},
   "source": [
    "__5.4 Limitations of this project and how we can get better__. We tried various ways (gridsearch, ADASYN, SMOTE) to improve our classifier in section 4. Our best accuracy score is 0.62 and  best weighted f1 score is 0.60, which we think is good enough for a highly imbalanced 8 classes case. There are 3 important limitations we have here: (1) limited observations (since we only focused on negative reviews), we only have 1221 observations, which is not neccessarily enough for a highly imbalanced 8 classes NLP case, especially for minor classes, there are not enough observations to train; (2) some reviews have multiple complaints, as you can imagine, when people are writing reviews, they often complain about more than one thing, this make it difficult to classify the reviews into one specific category; (3) there are too many 'freestyle writing' observations in Yelp reviews. Literally, people can write about any irrelevant subject in their Yelp review. For example, we found several reviews where people are complaining that they lost their job, lost their wife, their life is miserable, or even that their car got towed. Instances like this can make it difficult for an NLP model to have accurate classification for reviews. While it is impossible to change people's reviews, we believe getting more negative review observations (maybe more than 10,000 observations) will yield better results for the model. "
   ]
  },
  {
   "cell_type": "markdown",
   "metadata": {},
   "source": [
    "#### 5.5 This is the most exciting part! Now we have our model, let's use it to classify reviews of another similar fast food restaurant -- KFC !"
   ]
  },
  {
   "cell_type": "code",
   "execution_count": 642,
   "metadata": {
    "scrolled": false
   },
   "outputs": [
    {
     "data": {
      "text/html": [
       "<div>\n",
       "<style scoped>\n",
       "    .dataframe tbody tr th:only-of-type {\n",
       "        vertical-align: middle;\n",
       "    }\n",
       "\n",
       "    .dataframe tbody tr th {\n",
       "        vertical-align: top;\n",
       "    }\n",
       "\n",
       "    .dataframe thead th {\n",
       "        text-align: right;\n",
       "    }\n",
       "</style>\n",
       "<table border=\"1\" class=\"dataframe\">\n",
       "  <thead>\n",
       "    <tr style=\"text-align: right;\">\n",
       "      <th></th>\n",
       "      <th>Unnamed: 0</th>\n",
       "      <th>id_x</th>\n",
       "      <th>url</th>\n",
       "      <th>text</th>\n",
       "      <th>rating_x</th>\n",
       "      <th>time_created</th>\n",
       "      <th>user</th>\n",
       "      <th>index</th>\n",
       "      <th>id_y</th>\n",
       "      <th>alias</th>\n",
       "      <th>...</th>\n",
       "      <th>review_count</th>\n",
       "      <th>categories</th>\n",
       "      <th>rating_y</th>\n",
       "      <th>coordinates</th>\n",
       "      <th>transactions</th>\n",
       "      <th>price</th>\n",
       "      <th>location</th>\n",
       "      <th>phone</th>\n",
       "      <th>display_phone</th>\n",
       "      <th>distance</th>\n",
       "    </tr>\n",
       "  </thead>\n",
       "  <tbody>\n",
       "    <tr>\n",
       "      <th>0</th>\n",
       "      <td>0</td>\n",
       "      <td>fcWBPRhYHm4RaAtQtw4tMg</td>\n",
       "      <td>https://www.yelp.com/biz/kfc-atlanta-15</td>\n",
       "      <td>I went here tonight to get some food with my f...</td>\n",
       "      <td>1</td>\n",
       "      <td>2019-12-25 18:13:27</td>\n",
       "      <td>{'id': 'qO6mPdJF05r3486qxymr9g', 'profile_url'...</td>\n",
       "      <td>0</td>\n",
       "      <td>xzpiWdfwqF-8lDpAjAzdCg</td>\n",
       "      <td>kfc-atlanta-15</td>\n",
       "      <td>...</td>\n",
       "      <td>23</td>\n",
       "      <td>[{'alias': 'chicken_wings', 'title': 'Chicken ...</td>\n",
       "      <td>2.0</td>\n",
       "      <td>{'latitude': 33.8572519952499, 'longitude': -8...</td>\n",
       "      <td>['delivery', 'pickup']</td>\n",
       "      <td>$</td>\n",
       "      <td>{'address1': '3901 Buford Hwy NE', 'address2':...</td>\n",
       "      <td>1.404635e+10</td>\n",
       "      <td>(404) 634-8416</td>\n",
       "      <td>7487.599592</td>\n",
       "    </tr>\n",
       "    <tr>\n",
       "      <th>1</th>\n",
       "      <td>1</td>\n",
       "      <td>JyX3CYdswnBkZ2shG6c__A</td>\n",
       "      <td>https://www.yelp.com/biz/kfc-atlanta-15</td>\n",
       "      <td>Two lousy buckets of chicken in two months. We...</td>\n",
       "      <td>1</td>\n",
       "      <td>2020-04-20 21:21:12</td>\n",
       "      <td>{'id': 'DxrsfOSpHLkK4JqrcNCpVQ', 'profile_url'...</td>\n",
       "      <td>0</td>\n",
       "      <td>xzpiWdfwqF-8lDpAjAzdCg</td>\n",
       "      <td>kfc-atlanta-15</td>\n",
       "      <td>...</td>\n",
       "      <td>23</td>\n",
       "      <td>[{'alias': 'chicken_wings', 'title': 'Chicken ...</td>\n",
       "      <td>2.0</td>\n",
       "      <td>{'latitude': 33.8572519952499, 'longitude': -8...</td>\n",
       "      <td>['delivery', 'pickup']</td>\n",
       "      <td>$</td>\n",
       "      <td>{'address1': '3901 Buford Hwy NE', 'address2':...</td>\n",
       "      <td>1.404635e+10</td>\n",
       "      <td>(404) 634-8416</td>\n",
       "      <td>7487.599592</td>\n",
       "    </tr>\n",
       "  </tbody>\n",
       "</table>\n",
       "<p>2 rows × 23 columns</p>\n",
       "</div>"
      ],
      "text/plain": [
       "   Unnamed: 0                    id_x  \\\n",
       "0           0  fcWBPRhYHm4RaAtQtw4tMg   \n",
       "1           1  JyX3CYdswnBkZ2shG6c__A   \n",
       "\n",
       "                                       url  \\\n",
       "0  https://www.yelp.com/biz/kfc-atlanta-15   \n",
       "1  https://www.yelp.com/biz/kfc-atlanta-15   \n",
       "\n",
       "                                                text  rating_x  \\\n",
       "0  I went here tonight to get some food with my f...         1   \n",
       "1  Two lousy buckets of chicken in two months. We...         1   \n",
       "\n",
       "          time_created                                               user  \\\n",
       "0  2019-12-25 18:13:27  {'id': 'qO6mPdJF05r3486qxymr9g', 'profile_url'...   \n",
       "1  2020-04-20 21:21:12  {'id': 'DxrsfOSpHLkK4JqrcNCpVQ', 'profile_url'...   \n",
       "\n",
       "   index                    id_y           alias  ... review_count  \\\n",
       "0      0  xzpiWdfwqF-8lDpAjAzdCg  kfc-atlanta-15  ...           23   \n",
       "1      0  xzpiWdfwqF-8lDpAjAzdCg  kfc-atlanta-15  ...           23   \n",
       "\n",
       "                                          categories  rating_y  \\\n",
       "0  [{'alias': 'chicken_wings', 'title': 'Chicken ...       2.0   \n",
       "1  [{'alias': 'chicken_wings', 'title': 'Chicken ...       2.0   \n",
       "\n",
       "                                         coordinates            transactions  \\\n",
       "0  {'latitude': 33.8572519952499, 'longitude': -8...  ['delivery', 'pickup']   \n",
       "1  {'latitude': 33.8572519952499, 'longitude': -8...  ['delivery', 'pickup']   \n",
       "\n",
       "   price                                           location         phone  \\\n",
       "0      $  {'address1': '3901 Buford Hwy NE', 'address2':...  1.404635e+10   \n",
       "1      $  {'address1': '3901 Buford Hwy NE', 'address2':...  1.404635e+10   \n",
       "\n",
       "    display_phone     distance  \n",
       "0  (404) 634-8416  7487.599592  \n",
       "1  (404) 634-8416  7487.599592  \n",
       "\n",
       "[2 rows x 23 columns]"
      ]
     },
     "execution_count": 642,
     "metadata": {},
     "output_type": "execute_result"
    }
   ],
   "source": [
    "kfc_df = pd.read_csv('kfc.csv')\n",
    "kfc_df.head(2)"
   ]
  },
  {
   "cell_type": "code",
   "execution_count": 643,
   "metadata": {},
   "outputs": [],
   "source": [
    "kfc_review = kfc_df['text']"
   ]
  },
  {
   "cell_type": "code",
   "execution_count": 644,
   "metadata": {},
   "outputs": [],
   "source": [
    "# make stopwords list\n",
    "stopwords_kfc=stopwords.words('english')+list(string.punctuation)+['Î','î','¾','one','kfc','Œæ','œæ','u']"
   ]
  },
  {
   "cell_type": "code",
   "execution_count": 645,
   "metadata": {},
   "outputs": [],
   "source": [
    "def reduce_kfc(text):\n",
    "    tokens = tokenizer.tokenize(text) # tokenize every review\n",
    "    newdata = [token.lower() for token in tokens if token.lower() not in stopwords_kfc]\n",
    "    return newdata"
   ]
  },
  {
   "cell_type": "code",
   "execution_count": 646,
   "metadata": {},
   "outputs": [],
   "source": [
    "# remove all stopwords, punctuations & unimportant words from the reviews and make a list\n",
    "kfc_data = list(map(reduce_kfc, kfc_review))\n",
    "# stemming data\n",
    "kfc_clean = []\n",
    "for j in kfc_data:\n",
    "    ste = ' '.join([ps.stem(w) for w in j])\n",
    "    kfc_clean.append(ste)"
   ]
  },
  {
   "cell_type": "code",
   "execution_count": 647,
   "metadata": {},
   "outputs": [],
   "source": [
    "# classify the negative kfc reviews !\n",
    "kfc_tf = tfVectorizer_stem.transform(kfc_clean)\n",
    "kfc_preds = rf_classifier.predict(kfc_tf)"
   ]
  },
  {
   "cell_type": "code",
   "execution_count": 648,
   "metadata": {},
   "outputs": [],
   "source": [
    "# add a column of classified kfc reviews back to kfc dataframe\n",
    "kfc_df['senti'] = kfc_preds\n",
    "kfc_df['sentiment'] = np.where(kfc_df['senti'] == 1, 'RudeService', kfc_df['senti'])\n",
    "kfc_df['sentiment'] = np.where(kfc_df['senti'] == 2, 'SlowService', kfc_df['sentiment'])\n",
    "kfc_df['sentiment'] = np.where(kfc_df['senti'] == 3, 'OrderProblem', kfc_df['sentiment'])\n",
    "kfc_df['sentiment'] = np.where(kfc_df['senti'] == 4, 'BadFood', kfc_df['sentiment'])\n",
    "kfc_df['sentiment'] = np.where(kfc_df['senti'] == 5, 'BadNeighborhood', kfc_df['sentiment'])\n",
    "kfc_df['sentiment'] = np.where(kfc_df['senti'] == 6, 'Filthy', kfc_df['sentiment'])\n",
    "kfc_df['sentiment'] = np.where(kfc_df['senti'] == 7, 'MissingFood', kfc_df['sentiment'])\n",
    "kfc_df['sentiment'] = np.where(kfc_df['senti'] == 8, 'Cost', kfc_df['sentiment'])"
   ]
  },
  {
   "cell_type": "markdown",
   "metadata": {},
   "source": [
    "#### Now let us check out how it works on KFC reviews !! We take a look at the first 10 columns. "
   ]
  },
  {
   "cell_type": "code",
   "execution_count": 652,
   "metadata": {
    "scrolled": false
   },
   "outputs": [
    {
     "name": "stderr",
     "output_type": "stream",
     "text": [
      "/opt/anaconda3/lib/python3.7/site-packages/ipykernel_launcher.py:1: FutureWarning: Passing a negative integer is deprecated in version 1.0 and will not be supported in future version. Instead, use None to not limit the column width.\n",
      "  \"\"\"Entry point for launching an IPython kernel.\n"
     ]
    },
    {
     "data": {
      "text/html": [
       "<div>\n",
       "<style scoped>\n",
       "    .dataframe tbody tr th:only-of-type {\n",
       "        vertical-align: middle;\n",
       "    }\n",
       "\n",
       "    .dataframe tbody tr th {\n",
       "        vertical-align: top;\n",
       "    }\n",
       "\n",
       "    .dataframe thead th {\n",
       "        text-align: right;\n",
       "    }\n",
       "</style>\n",
       "<table border=\"1\" class=\"dataframe\">\n",
       "  <thead>\n",
       "    <tr style=\"text-align: right;\">\n",
       "      <th></th>\n",
       "      <th>text</th>\n",
       "      <th>sentiment</th>\n",
       "    </tr>\n",
       "  </thead>\n",
       "  <tbody>\n",
       "    <tr>\n",
       "      <th>0</th>\n",
       "      <td>I went here tonight to get some food with my friend and from the time I pulled up to order my food and get my food it was already a terrible...</td>\n",
       "      <td>OrderProblem</td>\n",
       "    </tr>\n",
       "    <tr>\n",
       "      <th>1</th>\n",
       "      <td>Two lousy buckets of chicken in two months. We used to love KFC but this specific restaurant has killed our taste for KFC. The last 12 piece bucket we...</td>\n",
       "      <td>BadFood</td>\n",
       "    </tr>\n",
       "    <tr>\n",
       "      <th>2</th>\n",
       "      <td>On several occasions I've come maybe an hour or so before close (9:45-9:50 and they \"supposedly\" close at 11 pm) and they're ALWAYS \"out\" of everything...</td>\n",
       "      <td>RudeService</td>\n",
       "    </tr>\n",
       "    <tr>\n",
       "      <th>3</th>\n",
       "      <td>Rude and ghetto , you will be talking to\\n2 different ppl at the driver thru every time and will short you on your order.</td>\n",
       "      <td>RudeService</td>\n",
       "    </tr>\n",
       "    <tr>\n",
       "      <th>4</th>\n",
       "      <td>Would leave a once star review if i could.\\nI ordered the $30 fill up. once I got home (7 miles away), I discovered they had not included the chicken strip...</td>\n",
       "      <td>OrderProblem</td>\n",
       "    </tr>\n",
       "    <tr>\n",
       "      <th>5</th>\n",
       "      <td>I ordered online and set it to be delivered. I waited 29 minutes after it was supposed to be delivered before going up to the restaurant and grabbing the...</td>\n",
       "      <td>SlowService</td>\n",
       "    </tr>\n",
       "    <tr>\n",
       "      <th>6</th>\n",
       "      <td>I should have read the reviews before walked in the door. Coming from out of state, I thought all KFCs had a standard... boy was I mistaken.\\n\\nFor starters...</td>\n",
       "      <td>RudeService</td>\n",
       "    </tr>\n",
       "    <tr>\n",
       "      <th>7</th>\n",
       "      <td>Was it everyone's first day?! Jesus! And by everyone I mean all 3 employees. Waited 30 minutes for food and it was not even right. These people need to...</td>\n",
       "      <td>SlowService</td>\n",
       "    </tr>\n",
       "    <tr>\n",
       "      <th>8</th>\n",
       "      <td>Terrible service. Just took 37 minutes to get our food after all we got was a sorry it'll be 5 more minutes. Manager refused to give money back. Shiniqua...</td>\n",
       "      <td>RudeService</td>\n",
       "    </tr>\n",
       "    <tr>\n",
       "      <th>9</th>\n",
       "      <td>Usually the service is pretty good here.\\n\\nHowever, the last several times I have visited this location, there is either a long wait time, or they get my...</td>\n",
       "      <td>SlowService</td>\n",
       "    </tr>\n",
       "  </tbody>\n",
       "</table>\n",
       "</div>"
      ],
      "text/plain": [
       "                                                                                                                                                              text  \\\n",
       "0  I went here tonight to get some food with my friend and from the time I pulled up to order my food and get my food it was already a terrible...                   \n",
       "1  Two lousy buckets of chicken in two months. We used to love KFC but this specific restaurant has killed our taste for KFC. The last 12 piece bucket we...         \n",
       "2  On several occasions I've come maybe an hour or so before close (9:45-9:50 and they \"supposedly\" close at 11 pm) and they're ALWAYS \"out\" of everything...        \n",
       "3  Rude and ghetto , you will be talking to\\n2 different ppl at the driver thru every time and will short you on your order.                                         \n",
       "4  Would leave a once star review if i could.\\nI ordered the $30 fill up. once I got home (7 miles away), I discovered they had not included the chicken strip...    \n",
       "5  I ordered online and set it to be delivered. I waited 29 minutes after it was supposed to be delivered before going up to the restaurant and grabbing the...      \n",
       "6  I should have read the reviews before walked in the door. Coming from out of state, I thought all KFCs had a standard... boy was I mistaken.\\n\\nFor starters...   \n",
       "7  Was it everyone's first day?! Jesus! And by everyone I mean all 3 employees. Waited 30 minutes for food and it was not even right. These people need to...        \n",
       "8  Terrible service. Just took 37 minutes to get our food after all we got was a sorry it'll be 5 more minutes. Manager refused to give money back. Shiniqua...      \n",
       "9  Usually the service is pretty good here.\\n\\nHowever, the last several times I have visited this location, there is either a long wait time, or they get my...     \n",
       "\n",
       "      sentiment  \n",
       "0  OrderProblem  \n",
       "1  BadFood       \n",
       "2  RudeService   \n",
       "3  RudeService   \n",
       "4  OrderProblem  \n",
       "5  SlowService   \n",
       "6  RudeService   \n",
       "7  SlowService   \n",
       "8  RudeService   \n",
       "9  SlowService   "
      ]
     },
     "execution_count": 652,
     "metadata": {},
     "output_type": "execute_result"
    }
   ],
   "source": [
    "pd.set_option('display.max_colwidth', -1)\n",
    "kfc_df[['text','sentiment']].head(10)"
   ]
  },
  {
   "cell_type": "markdown",
   "metadata": {},
   "source": [
    "#### Since Yelp does not give classification of negative reviews of restaurants, we can look into the the review text to see how our model works. Let's take a look at the first 10 reviews. \n",
    "\n",
    "__1. Cannot really determine, it can be 'BadFood' or 'OrderProblem', so model is half correct;__\n",
    "\n",
    "__2. Prediction is correct;__\n",
    "\n",
    "__3. Cannot determine, but the most close is 'OrderProblem' or 'RudeService', so model is half correct;__\n",
    "\n",
    "__4. Prediction is correct;__\n",
    "\n",
    "__5. Shall be MissingFood;__\n",
    "\n",
    "__6. Prediction is correct;__\n",
    "\n",
    "__7. Cannot determine;__\n",
    "\n",
    "__8. Prediction is correct;__\n",
    "\n",
    "__9. Can be 'RudeService' or 'SlowService', so prediction is half correct;__\n",
    "\n",
    "__10. Prediction is correct;__\n",
    "\n",
    "#### From these sample observations, we can see our classification is 70% correct ! This NLP classifier works well! "
   ]
  },
  {
   "cell_type": "markdown",
   "metadata": {},
   "source": [
    "We can also check the reviews that are labeled with 'Filthy' by our classifier as following:"
   ]
  },
  {
   "cell_type": "code",
   "execution_count": 655,
   "metadata": {
    "scrolled": false
   },
   "outputs": [
    {
     "data": {
      "text/plain": [
       "169    The temperature in this place is always sub 65 degrees. Which may explain why at high noon less than 15% of the place is filled. They did at least fix the... \n",
       "193    Horrible place to eat. Lobby was always dirty. Never had food prepared I thought this was supposed to a be fast food place? Employees were like animals!!!... \n",
       "256    [3/16/2016]\\n\\nDon't come here... just don't. This place has a good price. But the food is absolutely nasty and bland. The Resturant is VERY DIRTY! How do... \n",
       "282    In this photo you'll see a garbage can, dirty pans and raw chicken left out next to it. Just paid $40.58 not for my family to eat food left next to garbage...\n",
       "391    Dirty restaurant,  employees clearly don't care, walked in and walked straight out... health department needs to come inspect asap...                         \n",
       "Name: text, dtype: object"
      ]
     },
     "execution_count": 655,
     "metadata": {},
     "output_type": "execute_result"
    }
   ],
   "source": [
    "# check out what is the reviews classified as 'Filthy'\n",
    "kfc_df[kfc_df['sentiment']=='Filthy']['text'].head(5)"
   ]
  },
  {
   "cell_type": "markdown",
   "metadata": {},
   "source": [
    "__As we can see from above, 4 of 5 reviews are correctly labeled as 'Filthy'__"
   ]
  },
  {
   "cell_type": "code",
   "execution_count": 656,
   "metadata": {},
   "outputs": [],
   "source": [
    "# Since our classifier work well, we need to save this classifier\n",
    "\n",
    "import pickle\n",
    "filename1 = 'reviewclassifier.sav'\n",
    "pickle.dump(rf_classifier, open(filename1, 'wb'))"
   ]
  },
  {
   "cell_type": "markdown",
   "metadata": {},
   "source": [
    "## 6. Business Case & Conclusions"
   ]
  },
  {
   "cell_type": "markdown",
   "metadata": {},
   "source": [
    "6.1 There is fierce competition in the fast food industry. For McDonald's, it faces competition from local food outlets to global fast food chains. The franchise competes directly with similar fast food establishments like KFC, Wendy's, Burger Kings, Dunkin Donuts, etc. Dunkin Donuts for example, has made some headway in the fast food business and had planned to double the number of their locations ever since the beginning of 2018. It is common sense that restaurants need to improve customer satisfaction in order to increase their overall business and develop customer loyalty. How should one look into customer satisfaction? Reviews from guests have shown to be the most important resource. However, looking through thousands of customer reviews can be time-consuming, frustrating, and inefficient. __Moreover, third party platforms like Yelp simply display ratings without information regarding why reviews are negative (e.g the type of drawbacks).__ "
   ]
  },
  {
   "cell_type": "markdown",
   "metadata": {},
   "source": [
    "__6.2 Negative reviews are important__ because negative reviews provide information that can help restaurants on what improvements to make. The NLP review classifier we developed in this project deals with negative reviews specifically. The classifier can  __help restaurant managers classify the negative reviews, indentify where they went wrong, save time in getting customer feedback, and finally focus on specific approaches to better guest satisfaction. This is why this project can be very meaningful and useful.__ "
   ]
  },
  {
   "cell_type": "markdown",
   "metadata": {},
   "source": [
    "6.3 Among all negative review categories, 'RudeService' and 'SlowService' are the major classes. This is shown in our reviews' statistical analysis and validated in the KFC reviews. These 2 points shall address attention of fast food restaurant managers. __You cannot treat guests poorly just because you are selling fast food!__ Every one cares about how he/she is served regardless if they're staying for just 1 minute in fast food restaurant or 2 hours in a fancier sit-down establishment. \n",
    "\n",
    "Recommendations: McDonald's store managers should pay close attention to employees' attitude towards guests. \n",
    "\n",
    "SlowService is the second major complaint among customers. One of the main reasons that people choose to eat fast food is to save time. Our SlowService corpus statistics show that people are complaining about less staff, long wait time, etc. \n",
    "\n",
    "Recommendations: Restaurant managers should arrange more staff to work during rush hours or establish a more efficient process to serve guests. "
   ]
  },
  {
   "cell_type": "markdown",
   "metadata": {},
   "source": [
    "6.4 Surprisingly, McDonald's stores also have 'BadFood' and 'Filthy' problems. The 'BadFood' class is around 13% percent of customer complaints. Our classifier also identifies a similar 'BadFood' problem in KFC reviews as well. Since fast food chains get food from corporate distribution centers, 'BadFood' problems are more likely to arise from in-store preservation or in-store preporation. \n",
    "\n",
    "'Filthy problems' shall be addressed by restaurant managers, as shown from the classified data in Section 5. When looking through the reviews with 'Filthy' labels classified by our model in KFC review, we found that those problems are intolerable. \n",
    "\n",
    "Recommendations: Restaurant managers shall enhance regular checks for food preservation, preperation, and always monitor and maintain sanitation. "
   ]
  },
  {
   "cell_type": "markdown",
   "metadata": {},
   "source": [
    "__6.5 Finally, the model developed in this project is good, the accuracy is 0.62 on the test dataset. After we apply the model to classify reviews of similar restaurants, almost 70% classifications are correct. Using NLP model to do classify reviews of restaurants is a good approach to help restaurant industry to improve the business. Restaurant industry and online networking site like Yelp shall consider developing this project further.__"
   ]
  },
  {
   "cell_type": "code",
   "execution_count": null,
   "metadata": {},
   "outputs": [],
   "source": []
  }
 ],
 "metadata": {
  "kernelspec": {
   "display_name": "Python 3",
   "language": "python",
   "name": "python3"
  },
  "language_info": {
   "codemirror_mode": {
    "name": "ipython",
    "version": 3
   },
   "file_extension": ".py",
   "mimetype": "text/x-python",
   "name": "python",
   "nbconvert_exporter": "python",
   "pygments_lexer": "ipython3",
   "version": "3.7.7"
  }
 },
 "nbformat": 4,
 "nbformat_minor": 4
}
